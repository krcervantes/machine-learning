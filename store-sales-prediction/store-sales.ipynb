{
 "cells": [
  {
   "cell_type": "markdown",
   "metadata": {},
   "source": [
    "This store sales dataset is from Kaggle: https://www.kaggle.com/rohitsahoo/sales-forecasting. Time series analysis deals with time series based data to extract patterns for predictions and other characteristics of the data. It uses a model for forecasting future values in a small time frame based on previous observations. It is widely used for non-stationary data, such as economic data, weather data, stock prices, and retail sales forecasting.\n",
    "\n",
    "This is a retail dataset of a global superstore for 4 years.\n",
    "\n",
    "In this code, we will be making an in-sample and out-of-sample forecast using Prophet."
   ]
  },
  {
   "cell_type": "code",
   "execution_count": 1,
   "metadata": {},
   "outputs": [],
   "source": [
    "import glob\n",
    "import numpy as np\n",
    "import pandas as pd\n",
    "import matplotlib.pyplot as plt\n",
    "import datetime\n",
    "from datetime import timedelta\n",
    "from matplotlib import pyplot\n",
    "from sklearn.metrics import mean_absolute_error\n",
    "\n",
    "from fbprophet import Prophet\n",
    "from fbprophet.diagnostics import cross_validation\n",
    "from fbprophet.diagnostics import performance_metrics\n",
    "from fbprophet.plot import plot_cross_validation_metric\n",
    "import itertools\n",
    "\n"
   ]
  },
  {
   "cell_type": "code",
   "execution_count": 2,
   "metadata": {},
   "outputs": [],
   "source": [
    "def get_data():\n",
    "\n",
    "    ''' Read csv files\n",
    "        \n",
    "    Returns\n",
    "    -------\n",
    "\n",
    "    df_out:\n",
    "        Dataframe containing the parameters above\n",
    "    '''\n",
    "    \n",
    "    filenames = [i for i in glob.glob('*.{}'.format('csv'))]\n",
    "\n",
    "    for i, f in enumerate(filenames):\n",
    "        df = pd.read_csv(f)\n",
    "\n",
    "    return df\n"
   ]
  },
  {
   "cell_type": "markdown",
   "metadata": {},
   "source": [
    "Save to parquet for fewer storage."
   ]
  },
  {
   "cell_type": "code",
   "execution_count": 3,
   "metadata": {},
   "outputs": [],
   "source": [
    "df = get_data()\n",
    "\n",
    "df.to_parquet('sales.parquet')"
   ]
  },
  {
   "cell_type": "code",
   "execution_count": 4,
   "metadata": {},
   "outputs": [],
   "source": [
    "df = pd.read_parquet('sales.parquet')"
   ]
  },
  {
   "cell_type": "code",
   "execution_count": 5,
   "metadata": {},
   "outputs": [
    {
     "name": "stdout",
     "output_type": "stream",
     "text": [
      "<class 'pandas.core.frame.DataFrame'>\n",
      "RangeIndex: 9800 entries, 0 to 9799\n",
      "Data columns (total 18 columns):\n",
      " #   Column         Non-Null Count  Dtype  \n",
      "---  ------         --------------  -----  \n",
      " 0   Row ID         9800 non-null   int64  \n",
      " 1   Order ID       9800 non-null   object \n",
      " 2   Order Date     9800 non-null   object \n",
      " 3   Ship Date      9800 non-null   object \n",
      " 4   Ship Mode      9800 non-null   object \n",
      " 5   Customer ID    9800 non-null   object \n",
      " 6   Customer Name  9800 non-null   object \n",
      " 7   Segment        9800 non-null   object \n",
      " 8   Country        9800 non-null   object \n",
      " 9   City           9800 non-null   object \n",
      " 10  State          9800 non-null   object \n",
      " 11  Postal Code    9789 non-null   float64\n",
      " 12  Region         9800 non-null   object \n",
      " 13  Product ID     9800 non-null   object \n",
      " 14  Category       9800 non-null   object \n",
      " 15  Sub-Category   9800 non-null   object \n",
      " 16  Product Name   9800 non-null   object \n",
      " 17  Sales          9800 non-null   float64\n",
      "dtypes: float64(2), int64(1), object(15)\n",
      "memory usage: 1.3+ MB\n"
     ]
    }
   ],
   "source": [
    "df.info()"
   ]
  },
  {
   "cell_type": "code",
   "execution_count": 6,
   "metadata": {},
   "outputs": [
    {
     "data": {
      "text/plain": [
       "Row ID            0\n",
       "Order ID          0\n",
       "Order Date        0\n",
       "Ship Date         0\n",
       "Ship Mode         0\n",
       "Customer ID       0\n",
       "Customer Name     0\n",
       "Segment           0\n",
       "Country           0\n",
       "City              0\n",
       "State             0\n",
       "Postal Code      11\n",
       "Region            0\n",
       "Product ID        0\n",
       "Category          0\n",
       "Sub-Category      0\n",
       "Product Name      0\n",
       "Sales             0\n",
       "dtype: int64"
      ]
     },
     "execution_count": 6,
     "metadata": {},
     "output_type": "execute_result"
    }
   ],
   "source": [
    "# Check for null values\n",
    "\n",
    "df.isna().sum()"
   ]
  },
  {
   "cell_type": "markdown",
   "metadata": {},
   "source": [
    "There are missing values in the Postal Code, we can drop them."
   ]
  },
  {
   "cell_type": "code",
   "execution_count": 7,
   "metadata": {},
   "outputs": [],
   "source": [
    "# Remove missing values\n",
    "df = df.dropna()"
   ]
  },
  {
   "cell_type": "code",
   "execution_count": 8,
   "metadata": {},
   "outputs": [
    {
     "data": {
      "text/plain": [
       "Row ID           0\n",
       "Order ID         0\n",
       "Order Date       0\n",
       "Ship Date        0\n",
       "Ship Mode        0\n",
       "Customer ID      0\n",
       "Customer Name    0\n",
       "Segment          0\n",
       "Country          0\n",
       "City             0\n",
       "State            0\n",
       "Postal Code      0\n",
       "Region           0\n",
       "Product ID       0\n",
       "Category         0\n",
       "Sub-Category     0\n",
       "Product Name     0\n",
       "Sales            0\n",
       "dtype: int64"
      ]
     },
     "execution_count": 8,
     "metadata": {},
     "output_type": "execute_result"
    }
   ],
   "source": [
    "df.isna().sum()"
   ]
  },
  {
   "cell_type": "markdown",
   "metadata": {},
   "source": [
    "No duplicates."
   ]
  },
  {
   "cell_type": "code",
   "execution_count": 9,
   "metadata": {},
   "outputs": [
    {
     "data": {
      "text/plain": [
       "0"
      ]
     },
     "execution_count": 9,
     "metadata": {},
     "output_type": "execute_result"
    }
   ],
   "source": [
    "df.duplicated().sum()"
   ]
  },
  {
   "cell_type": "code",
   "execution_count": 10,
   "metadata": {},
   "outputs": [],
   "source": [
    "df[['Order Date','Ship Date']] = df[['Order Date','Ship Date']].apply(pd.to_datetime)\n",
    "dateparse = lambda x: datetime.strptime(x, '%d/%m/%Y')\n",
    "df['Order Year Month'] = df['Order Date'].apply(lambda x: x.strftime('%Y-%m'))\n",
    "df['Ship Year Month'] = df['Ship Date'].apply(lambda x: x.strftime('%Y-%m'))"
   ]
  },
  {
   "cell_type": "code",
   "execution_count": 11,
   "metadata": {},
   "outputs": [],
   "source": [
    "df = df.sort_values(by='Order Date')"
   ]
  },
  {
   "cell_type": "code",
   "execution_count": 12,
   "metadata": {},
   "outputs": [
    {
     "data": {
      "text/html": [
       "<div>\n",
       "<style scoped>\n",
       "    .dataframe tbody tr th:only-of-type {\n",
       "        vertical-align: middle;\n",
       "    }\n",
       "\n",
       "    .dataframe tbody tr th {\n",
       "        vertical-align: top;\n",
       "    }\n",
       "\n",
       "    .dataframe thead th {\n",
       "        text-align: right;\n",
       "    }\n",
       "</style>\n",
       "<table border=\"1\" class=\"dataframe\">\n",
       "  <thead>\n",
       "    <tr style=\"text-align: right;\">\n",
       "      <th></th>\n",
       "      <th>Row ID</th>\n",
       "      <th>Order ID</th>\n",
       "      <th>Order Date</th>\n",
       "      <th>Ship Date</th>\n",
       "      <th>Ship Mode</th>\n",
       "      <th>Customer ID</th>\n",
       "      <th>Customer Name</th>\n",
       "      <th>Segment</th>\n",
       "      <th>Country</th>\n",
       "      <th>City</th>\n",
       "      <th>State</th>\n",
       "      <th>Postal Code</th>\n",
       "      <th>Region</th>\n",
       "      <th>Product ID</th>\n",
       "      <th>Category</th>\n",
       "      <th>Sub-Category</th>\n",
       "      <th>Product Name</th>\n",
       "      <th>Sales</th>\n",
       "      <th>Order Year Month</th>\n",
       "      <th>Ship Year Month</th>\n",
       "    </tr>\n",
       "  </thead>\n",
       "  <tbody>\n",
       "    <tr>\n",
       "      <th>540</th>\n",
       "      <td>541</td>\n",
       "      <td>CA-2015-140795</td>\n",
       "      <td>2015-01-02</td>\n",
       "      <td>2015-03-02</td>\n",
       "      <td>First Class</td>\n",
       "      <td>BD-11500</td>\n",
       "      <td>Bradley Drucker</td>\n",
       "      <td>Consumer</td>\n",
       "      <td>United States</td>\n",
       "      <td>Green Bay</td>\n",
       "      <td>Wisconsin</td>\n",
       "      <td>54302.0</td>\n",
       "      <td>Central</td>\n",
       "      <td>TEC-AC-10001432</td>\n",
       "      <td>Technology</td>\n",
       "      <td>Accessories</td>\n",
       "      <td>Enermax Aurora Lite Keyboard</td>\n",
       "      <td>468.900</td>\n",
       "      <td>2015-01</td>\n",
       "      <td>2015-03</td>\n",
       "    </tr>\n",
       "    <tr>\n",
       "      <th>7950</th>\n",
       "      <td>7951</td>\n",
       "      <td>CA-2015-131009</td>\n",
       "      <td>2015-01-03</td>\n",
       "      <td>2015-05-03</td>\n",
       "      <td>Standard Class</td>\n",
       "      <td>SC-20380</td>\n",
       "      <td>Shahid Collister</td>\n",
       "      <td>Consumer</td>\n",
       "      <td>United States</td>\n",
       "      <td>El Paso</td>\n",
       "      <td>Texas</td>\n",
       "      <td>79907.0</td>\n",
       "      <td>Central</td>\n",
       "      <td>OFF-ST-10001469</td>\n",
       "      <td>Office Supplies</td>\n",
       "      <td>Storage</td>\n",
       "      <td>Fellowes Bankers Box Recycled Super Stor/Drawer</td>\n",
       "      <td>129.552</td>\n",
       "      <td>2015-01</td>\n",
       "      <td>2015-05</td>\n",
       "    </tr>\n",
       "    <tr>\n",
       "      <th>7948</th>\n",
       "      <td>7949</td>\n",
       "      <td>CA-2015-131009</td>\n",
       "      <td>2015-01-03</td>\n",
       "      <td>2015-05-03</td>\n",
       "      <td>Standard Class</td>\n",
       "      <td>SC-20380</td>\n",
       "      <td>Shahid Collister</td>\n",
       "      <td>Consumer</td>\n",
       "      <td>United States</td>\n",
       "      <td>El Paso</td>\n",
       "      <td>Texas</td>\n",
       "      <td>79907.0</td>\n",
       "      <td>Central</td>\n",
       "      <td>FUR-CH-10001270</td>\n",
       "      <td>Furniture</td>\n",
       "      <td>Chairs</td>\n",
       "      <td>Harbour Creations Steel Folding Chair</td>\n",
       "      <td>362.250</td>\n",
       "      <td>2015-01</td>\n",
       "      <td>2015-05</td>\n",
       "    </tr>\n",
       "    <tr>\n",
       "      <th>7947</th>\n",
       "      <td>7948</td>\n",
       "      <td>CA-2015-131009</td>\n",
       "      <td>2015-01-03</td>\n",
       "      <td>2015-05-03</td>\n",
       "      <td>Standard Class</td>\n",
       "      <td>SC-20380</td>\n",
       "      <td>Shahid Collister</td>\n",
       "      <td>Consumer</td>\n",
       "      <td>United States</td>\n",
       "      <td>El Paso</td>\n",
       "      <td>Texas</td>\n",
       "      <td>79907.0</td>\n",
       "      <td>Central</td>\n",
       "      <td>OFF-FA-10004395</td>\n",
       "      <td>Office Supplies</td>\n",
       "      <td>Fasteners</td>\n",
       "      <td>Plymouth Boxed Rubber Bands by Plymouth</td>\n",
       "      <td>18.840</td>\n",
       "      <td>2015-01</td>\n",
       "      <td>2015-05</td>\n",
       "    </tr>\n",
       "    <tr>\n",
       "      <th>8309</th>\n",
       "      <td>8310</td>\n",
       "      <td>CA-2015-168312</td>\n",
       "      <td>2015-01-03</td>\n",
       "      <td>2015-07-03</td>\n",
       "      <td>Standard Class</td>\n",
       "      <td>GW-14605</td>\n",
       "      <td>Giulietta Weimer</td>\n",
       "      <td>Consumer</td>\n",
       "      <td>United States</td>\n",
       "      <td>Houston</td>\n",
       "      <td>Texas</td>\n",
       "      <td>77036.0</td>\n",
       "      <td>Central</td>\n",
       "      <td>OFF-ST-10003692</td>\n",
       "      <td>Office Supplies</td>\n",
       "      <td>Storage</td>\n",
       "      <td>Recycled Steel Personal File for Hanging File ...</td>\n",
       "      <td>137.352</td>\n",
       "      <td>2015-01</td>\n",
       "      <td>2015-07</td>\n",
       "    </tr>\n",
       "  </tbody>\n",
       "</table>\n",
       "</div>"
      ],
      "text/plain": [
       "      Row ID        Order ID Order Date  Ship Date       Ship Mode  \\\n",
       "540      541  CA-2015-140795 2015-01-02 2015-03-02     First Class   \n",
       "7950    7951  CA-2015-131009 2015-01-03 2015-05-03  Standard Class   \n",
       "7948    7949  CA-2015-131009 2015-01-03 2015-05-03  Standard Class   \n",
       "7947    7948  CA-2015-131009 2015-01-03 2015-05-03  Standard Class   \n",
       "8309    8310  CA-2015-168312 2015-01-03 2015-07-03  Standard Class   \n",
       "\n",
       "     Customer ID     Customer Name   Segment        Country       City  \\\n",
       "540     BD-11500   Bradley Drucker  Consumer  United States  Green Bay   \n",
       "7950    SC-20380  Shahid Collister  Consumer  United States    El Paso   \n",
       "7948    SC-20380  Shahid Collister  Consumer  United States    El Paso   \n",
       "7947    SC-20380  Shahid Collister  Consumer  United States    El Paso   \n",
       "8309    GW-14605  Giulietta Weimer  Consumer  United States    Houston   \n",
       "\n",
       "          State  Postal Code   Region       Product ID         Category  \\\n",
       "540   Wisconsin      54302.0  Central  TEC-AC-10001432       Technology   \n",
       "7950      Texas      79907.0  Central  OFF-ST-10001469  Office Supplies   \n",
       "7948      Texas      79907.0  Central  FUR-CH-10001270        Furniture   \n",
       "7947      Texas      79907.0  Central  OFF-FA-10004395  Office Supplies   \n",
       "8309      Texas      77036.0  Central  OFF-ST-10003692  Office Supplies   \n",
       "\n",
       "     Sub-Category                                       Product Name    Sales  \\\n",
       "540   Accessories                       Enermax Aurora Lite Keyboard  468.900   \n",
       "7950      Storage    Fellowes Bankers Box Recycled Super Stor/Drawer  129.552   \n",
       "7948       Chairs              Harbour Creations Steel Folding Chair  362.250   \n",
       "7947    Fasteners            Plymouth Boxed Rubber Bands by Plymouth   18.840   \n",
       "8309      Storage  Recycled Steel Personal File for Hanging File ...  137.352   \n",
       "\n",
       "     Order Year Month Ship Year Month  \n",
       "540           2015-01         2015-03  \n",
       "7950          2015-01         2015-05  \n",
       "7948          2015-01         2015-05  \n",
       "7947          2015-01         2015-05  \n",
       "8309          2015-01         2015-07  "
      ]
     },
     "execution_count": 12,
     "metadata": {},
     "output_type": "execute_result"
    }
   ],
   "source": [
    "df.head()"
   ]
  },
  {
   "cell_type": "markdown",
   "metadata": {},
   "source": [
    "### What is the most preferred shipping mode?"
   ]
  },
  {
   "cell_type": "code",
   "execution_count": 13,
   "metadata": {},
   "outputs": [
    {
     "data": {
      "text/plain": [
       "4"
      ]
     },
     "execution_count": 13,
     "metadata": {},
     "output_type": "execute_result"
    }
   ],
   "source": [
    "df['Ship Mode'].nunique()"
   ]
  },
  {
   "cell_type": "code",
   "execution_count": 14,
   "metadata": {},
   "outputs": [
    {
     "data": {
      "text/plain": [
       "Text(0.5, 0, 'Number of Sales')"
      ]
     },
     "execution_count": 14,
     "metadata": {},
     "output_type": "execute_result"
    },
    {
     "data": {
      "image/png": "[encoded data removed]",
      "text/plain": [
       "<Figure size 432x288 with 1 Axes>"
      ]
     },
     "metadata": {
      "needs_background": "light"
     },
     "output_type": "display_data"
    }
   ],
   "source": [
    "shipping_mode = df['Ship Mode'].value_counts()\n",
    "shipping_mode = shipping_mode.sort_values(ascending = False)\n",
    "\n",
    "shipping_mode.plot.barh()\n",
    "plt.xlabel('Number of Sales')"
   ]
  },
  {
   "cell_type": "markdown",
   "metadata": {},
   "source": [
    "* Standard Class is the most preferred shipping mode"
   ]
  },
  {
   "cell_type": "markdown",
   "metadata": {},
   "source": [
    "### Which segment has the most sales?"
   ]
  },
  {
   "cell_type": "code",
   "execution_count": 15,
   "metadata": {},
   "outputs": [
    {
     "data": {
      "text/plain": [
       "3"
      ]
     },
     "execution_count": 15,
     "metadata": {},
     "output_type": "execute_result"
    }
   ],
   "source": [
    "df['Segment'].nunique()"
   ]
  },
  {
   "cell_type": "code",
   "execution_count": 16,
   "metadata": {},
   "outputs": [
    {
     "data": {
      "text/plain": [
       "Text(0.5, 0, 'Number of Sales')"
      ]
     },
     "execution_count": 16,
     "metadata": {},
     "output_type": "execute_result"
    },
    {
     "data": {
      "image/png": "[encoded data removed]",
      "text/plain": [
       "<Figure size 432x288 with 1 Axes>"
      ]
     },
     "metadata": {
      "needs_background": "light"
     },
     "output_type": "display_data"
    }
   ],
   "source": [
    "segment = df['Segment'].value_counts()\n",
    "segment = segment.sort_values(ascending = False)\n",
    "\n",
    "segment.plot.barh()\n",
    "plt.xlabel('Number of Sales')"
   ]
  },
  {
   "cell_type": "markdown",
   "metadata": {},
   "source": [
    "* Ordinary consumers buy from the store the most."
   ]
  },
  {
   "cell_type": "markdown",
   "metadata": {},
   "source": [
    "### Which state has the most sales?"
   ]
  },
  {
   "cell_type": "code",
   "execution_count": 17,
   "metadata": {},
   "outputs": [
    {
     "data": {
      "text/plain": [
       "48"
      ]
     },
     "execution_count": 17,
     "metadata": {},
     "output_type": "execute_result"
    }
   ],
   "source": [
    "df['State'].nunique()"
   ]
  },
  {
   "cell_type": "markdown",
   "metadata": {},
   "source": [
    "There are 48 different states in the dataset. Let's look at the 20 states that generate most profit."
   ]
  },
  {
   "cell_type": "code",
   "execution_count": 18,
   "metadata": {},
   "outputs": [
    {
     "data": {
      "text/plain": [
       "Text(0.5, 0, 'Number of Sales')"
      ]
     },
     "execution_count": 18,
     "metadata": {},
     "output_type": "execute_result"
    },
    {
     "data": {
      "image/png": "[encoded data removed]",
      "text/plain": [
       "<Figure size 432x288 with 1 Axes>"
      ]
     },
     "metadata": {
      "needs_background": "light"
     },
     "output_type": "display_data"
    }
   ],
   "source": [
    "state_count = df['State'].value_counts()\n",
    "state_count = state_count.sort_values(ascending = False)\n",
    "\n",
    "state_count.head(20).plot.barh()\n",
    "plt.xlabel('Number of Sales')"
   ]
  },
  {
   "cell_type": "markdown",
   "metadata": {},
   "source": [
    "* The state of California generated most sales."
   ]
  },
  {
   "cell_type": "markdown",
   "metadata": {},
   "source": [
    "### Which city has the most sales?"
   ]
  },
  {
   "cell_type": "code",
   "execution_count": 19,
   "metadata": {},
   "outputs": [
    {
     "data": {
      "text/plain": [
       "529"
      ]
     },
     "execution_count": 19,
     "metadata": {},
     "output_type": "execute_result"
    }
   ],
   "source": [
    "df['City'].nunique()"
   ]
  },
  {
   "cell_type": "markdown",
   "metadata": {},
   "source": [
    "There are 529 different states in the dataset. Let's just look at the 20 cities that generate most profit."
   ]
  },
  {
   "cell_type": "code",
   "execution_count": 20,
   "metadata": {},
   "outputs": [
    {
     "data": {
      "text/plain": [
       "Text(0.5, 0, 'Number of Sales')"
      ]
     },
     "execution_count": 20,
     "metadata": {},
     "output_type": "execute_result"
    },
    {
     "data": {
      "image/png": "[encoded data removed]",
      "text/plain": [
       "<Figure size 432x288 with 1 Axes>"
      ]
     },
     "metadata": {
      "needs_background": "light"
     },
     "output_type": "display_data"
    }
   ],
   "source": [
    "city_count = df['City'].value_counts()\n",
    "city_count = city_count.sort_values(ascending = False)\n",
    "\n",
    "city_count.head(20).plot.barh()\n",
    "plt.xlabel('Number of Sales')"
   ]
  },
  {
   "cell_type": "markdown",
   "metadata": {},
   "source": [
    "* The city of New York generated most sales."
   ]
  },
  {
   "cell_type": "markdown",
   "metadata": {},
   "source": [
    "### Which category has the most sales?"
   ]
  },
  {
   "cell_type": "code",
   "execution_count": 21,
   "metadata": {},
   "outputs": [
    {
     "data": {
      "text/plain": [
       "3"
      ]
     },
     "execution_count": 21,
     "metadata": {},
     "output_type": "execute_result"
    }
   ],
   "source": [
    "df['Category'].nunique()"
   ]
  },
  {
   "cell_type": "code",
   "execution_count": 22,
   "metadata": {},
   "outputs": [
    {
     "data": {
      "text/plain": [
       "Text(0.5, 0, 'Number of Sales')"
      ]
     },
     "execution_count": 22,
     "metadata": {},
     "output_type": "execute_result"
    },
    {
     "data": {
      "image/png": "[encoded data removed]",
      "text/plain": [
       "<Figure size 432x288 with 1 Axes>"
      ]
     },
     "metadata": {
      "needs_background": "light"
     },
     "output_type": "display_data"
    }
   ],
   "source": [
    "category = df['Category'].value_counts()\n",
    "category = category.sort_values(ascending = False)\n",
    "\n",
    "category.plot.barh()\n",
    "plt.xlabel('Number of Sales')"
   ]
  },
  {
   "cell_type": "markdown",
   "metadata": {},
   "source": [
    "* Office supplies is the most selling category."
   ]
  },
  {
   "cell_type": "markdown",
   "metadata": {},
   "source": [
    "### Which sub-category has the most sales?"
   ]
  },
  {
   "cell_type": "code",
   "execution_count": 23,
   "metadata": {},
   "outputs": [
    {
     "data": {
      "text/plain": [
       "17"
      ]
     },
     "execution_count": 23,
     "metadata": {},
     "output_type": "execute_result"
    }
   ],
   "source": [
    "df['Sub-Category'].nunique()"
   ]
  },
  {
   "cell_type": "code",
   "execution_count": 24,
   "metadata": {},
   "outputs": [
    {
     "data": {
      "text/plain": [
       "Text(0.5, 0, 'Number of Sales')"
      ]
     },
     "execution_count": 24,
     "metadata": {},
     "output_type": "execute_result"
    },
    {
     "data": {
      "image/png": "[encoded data removed]",
      "text/plain": [
       "<Figure size 432x288 with 1 Axes>"
      ]
     },
     "metadata": {
      "needs_background": "light"
     },
     "output_type": "display_data"
    }
   ],
   "source": [
    "sub_category = df['Sub-Category'].value_counts()\n",
    "sub_category = sub_category.sort_values(ascending = False)\n",
    "\n",
    "sub_category.plot.barh()\n",
    "plt.xlabel('Number of Sales')"
   ]
  },
  {
   "cell_type": "markdown",
   "metadata": {},
   "source": [
    "* As office supplies is the most-selling category, the top 2 most-selling sub-categories (paper and binders) is under this category."
   ]
  },
  {
   "cell_type": "markdown",
   "metadata": {},
   "source": [
    "### Which specific products has the most sales?"
   ]
  },
  {
   "cell_type": "code",
   "execution_count": 25,
   "metadata": {},
   "outputs": [
    {
     "data": {
      "text/plain": [
       "1848"
      ]
     },
     "execution_count": 25,
     "metadata": {},
     "output_type": "execute_result"
    }
   ],
   "source": [
    "df['Product Name'].nunique()"
   ]
  },
  {
   "cell_type": "markdown",
   "metadata": {},
   "source": [
    "There are 1848 products in the dataset. Let's just look at the 20 products that generate most profit."
   ]
  },
  {
   "cell_type": "code",
   "execution_count": 26,
   "metadata": {},
   "outputs": [
    {
     "data": {
      "text/plain": [
       "Text(0.5, 0, 'Number of Sales')"
      ]
     },
     "execution_count": 26,
     "metadata": {},
     "output_type": "execute_result"
    },
    {
     "data": {
      "image/png": "[encoded data removed]",
      "text/plain": [
       "<Figure size 432x288 with 1 Axes>"
      ]
     },
     "metadata": {
      "needs_background": "light"
     },
     "output_type": "display_data"
    }
   ],
   "source": [
    "product = df['Product Name'].value_counts()\n",
    "product = product.sort_values(ascending = False)\n",
    "\n",
    "product.head(20).plot.barh()\n",
    "plt.xlabel('Number of Sales')"
   ]
  },
  {
   "cell_type": "markdown",
   "metadata": {},
   "source": [
    "* The products that were top-bought were easy-staple papers, staples, and staple envelope."
   ]
  },
  {
   "cell_type": "markdown",
   "metadata": {},
   "source": [
    "### Which months have the most sales?"
   ]
  },
  {
   "cell_type": "code",
   "execution_count": 27,
   "metadata": {},
   "outputs": [
    {
     "data": {
      "text/plain": [
       "Text(0.5, 0, 'Number of Sales')"
      ]
     },
     "execution_count": 27,
     "metadata": {},
     "output_type": "execute_result"
    },
    {
     "data": {
      "image/png": "[encoded data removed]",
      "text/plain": [
       "<Figure size 432x288 with 1 Axes>"
      ]
     },
     "metadata": {
      "needs_background": "light"
     },
     "output_type": "display_data"
    }
   ],
   "source": [
    "month = df['Order Date'].dt.month_name().value_counts()\n",
    "month = month.sort_values(ascending = False)\n",
    "\n",
    "month.plot.barh()\n",
    "plt.xlabel('Number of Sales')"
   ]
  },
  {
   "cell_type": "markdown",
   "metadata": {},
   "source": [
    "* The months with top sales might be affected by holidays in USA, like Christmas and Thanksgiving."
   ]
  },
  {
   "cell_type": "markdown",
   "metadata": {},
   "source": [
    "## Forecast Store Sales With Prophet"
   ]
  },
  {
   "cell_type": "code",
   "execution_count": 28,
   "metadata": {},
   "outputs": [],
   "source": [
    "df_prophet = df[[\"Order Date\",\"Sales\"]]"
   ]
  },
  {
   "cell_type": "markdown",
   "metadata": {},
   "source": [
    "The start year of this dataset is 2015."
   ]
  },
  {
   "cell_type": "code",
   "execution_count": 29,
   "metadata": {},
   "outputs": [
    {
     "data": {
      "text/html": [
       "<div>\n",
       "<style scoped>\n",
       "    .dataframe tbody tr th:only-of-type {\n",
       "        vertical-align: middle;\n",
       "    }\n",
       "\n",
       "    .dataframe tbody tr th {\n",
       "        vertical-align: top;\n",
       "    }\n",
       "\n",
       "    .dataframe thead th {\n",
       "        text-align: right;\n",
       "    }\n",
       "</style>\n",
       "<table border=\"1\" class=\"dataframe\">\n",
       "  <thead>\n",
       "    <tr style=\"text-align: right;\">\n",
       "      <th></th>\n",
       "      <th>Order Date</th>\n",
       "      <th>Sales</th>\n",
       "    </tr>\n",
       "  </thead>\n",
       "  <tbody>\n",
       "    <tr>\n",
       "      <th>540</th>\n",
       "      <td>2015-01-02</td>\n",
       "      <td>468.900</td>\n",
       "    </tr>\n",
       "    <tr>\n",
       "      <th>7950</th>\n",
       "      <td>2015-01-03</td>\n",
       "      <td>129.552</td>\n",
       "    </tr>\n",
       "    <tr>\n",
       "      <th>7948</th>\n",
       "      <td>2015-01-03</td>\n",
       "      <td>362.250</td>\n",
       "    </tr>\n",
       "    <tr>\n",
       "      <th>7947</th>\n",
       "      <td>2015-01-03</td>\n",
       "      <td>18.840</td>\n",
       "    </tr>\n",
       "    <tr>\n",
       "      <th>8309</th>\n",
       "      <td>2015-01-03</td>\n",
       "      <td>137.352</td>\n",
       "    </tr>\n",
       "  </tbody>\n",
       "</table>\n",
       "</div>"
      ],
      "text/plain": [
       "     Order Date    Sales\n",
       "540  2015-01-02  468.900\n",
       "7950 2015-01-03  129.552\n",
       "7948 2015-01-03  362.250\n",
       "7947 2015-01-03   18.840\n",
       "8309 2015-01-03  137.352"
      ]
     },
     "execution_count": 29,
     "metadata": {},
     "output_type": "execute_result"
    }
   ],
   "source": [
    "df_prophet.head()"
   ]
  },
  {
   "cell_type": "code",
   "execution_count": 30,
   "metadata": {},
   "outputs": [
    {
     "data": {
      "image/png": "[encoded data removed]",
      "text/plain": [
       "<Figure size 432x288 with 1 Axes>"
      ]
     },
     "metadata": {
      "needs_background": "light"
     },
     "output_type": "display_data"
    }
   ],
   "source": [
    "# Plot the time series\n",
    "df_prophet.plot('Order Date')\n",
    "plt.xlabel('Order Date')\n",
    "plt.ylabel('Daily Sales')\n",
    "plt.show()"
   ]
  },
  {
   "cell_type": "code",
   "execution_count": 31,
   "metadata": {},
   "outputs": [
    {
     "data": {
      "text/html": [
       "<div>\n",
       "<style scoped>\n",
       "    .dataframe tbody tr th:only-of-type {\n",
       "        vertical-align: middle;\n",
       "    }\n",
       "\n",
       "    .dataframe tbody tr th {\n",
       "        vertical-align: top;\n",
       "    }\n",
       "\n",
       "    .dataframe thead th {\n",
       "        text-align: right;\n",
       "    }\n",
       "</style>\n",
       "<table border=\"1\" class=\"dataframe\">\n",
       "  <thead>\n",
       "    <tr style=\"text-align: right;\">\n",
       "      <th></th>\n",
       "      <th>ds</th>\n",
       "      <th>y</th>\n",
       "    </tr>\n",
       "  </thead>\n",
       "  <tbody>\n",
       "    <tr>\n",
       "      <th>645</th>\n",
       "      <td>2018-12-30</td>\n",
       "      <td>209.300</td>\n",
       "    </tr>\n",
       "    <tr>\n",
       "      <th>906</th>\n",
       "      <td>2018-12-30</td>\n",
       "      <td>323.136</td>\n",
       "    </tr>\n",
       "    <tr>\n",
       "      <th>1296</th>\n",
       "      <td>2018-12-30</td>\n",
       "      <td>13.904</td>\n",
       "    </tr>\n",
       "    <tr>\n",
       "      <th>1297</th>\n",
       "      <td>2018-12-30</td>\n",
       "      <td>20.720</td>\n",
       "    </tr>\n",
       "    <tr>\n",
       "      <th>907</th>\n",
       "      <td>2018-12-30</td>\n",
       "      <td>90.930</td>\n",
       "    </tr>\n",
       "  </tbody>\n",
       "</table>\n",
       "</div>"
      ],
      "text/plain": [
       "             ds        y\n",
       "645  2018-12-30  209.300\n",
       "906  2018-12-30  323.136\n",
       "1296 2018-12-30   13.904\n",
       "1297 2018-12-30   20.720\n",
       "907  2018-12-30   90.930"
      ]
     },
     "execution_count": 31,
     "metadata": {},
     "output_type": "execute_result"
    }
   ],
   "source": [
    "df_prophet = df_prophet.rename(columns = {'Order Date': 'ds','Sales': 'y'})\n",
    "\n",
    "# Let's look at the store sales of the latest dates\n",
    "df_prophet.tail()"
   ]
  },
  {
   "cell_type": "markdown",
   "metadata": {},
   "source": [
    "The end year of the dataset is 2018."
   ]
  },
  {
   "cell_type": "code",
   "execution_count": 32,
   "metadata": {},
   "outputs": [],
   "source": [
    "# The function below returns a dataframe of desired start date to desired end date\n",
    "def gen_days(start_year, start_month, start_day, end_year, end_month, end_day):\n",
    "    start_date=pd.datetime(start_year, start_month, start_day)\n",
    "    end_date=pd.datetime(end_year, end_month, end_day)\n",
    "    d=start_date\n",
    "    dates=[ start_date ]\n",
    "    while d < end_date:\n",
    "        d += timedelta(days=1)\n",
    "        dates.append( d )\n",
    "    return pd.DataFrame(dates)"
   ]
  },
  {
   "cell_type": "markdown",
   "metadata": {},
   "source": [
    "### 1) Make an In-Sample Forecast\n",
    "\n",
    "Let's make a prediction on store sales of 2018 based on the store sales from 2015 to 2017."
   ]
  },
  {
   "cell_type": "code",
   "execution_count": 33,
   "metadata": {},
   "outputs": [],
   "source": [
    "# Define the model\n",
    "prophet_model = Prophet(interval_width=0.95, daily_seasonality=True)\n",
    "\n",
    "# Training dataset\n",
    "index_2018 = df_prophet.index[df_prophet['ds'].dt.year.isin([2018])]\n",
    "train = df_prophet.copy()\n",
    "train = train.drop(index_2018)"
   ]
  },
  {
   "cell_type": "code",
   "execution_count": 34,
   "metadata": {},
   "outputs": [
    {
     "data": {
      "text/html": [
       "<div>\n",
       "<style scoped>\n",
       "    .dataframe tbody tr th:only-of-type {\n",
       "        vertical-align: middle;\n",
       "    }\n",
       "\n",
       "    .dataframe tbody tr th {\n",
       "        vertical-align: top;\n",
       "    }\n",
       "\n",
       "    .dataframe thead th {\n",
       "        text-align: right;\n",
       "    }\n",
       "</style>\n",
       "<table border=\"1\" class=\"dataframe\">\n",
       "  <thead>\n",
       "    <tr style=\"text-align: right;\">\n",
       "      <th></th>\n",
       "      <th>ds</th>\n",
       "      <th>y</th>\n",
       "    </tr>\n",
       "  </thead>\n",
       "  <tbody>\n",
       "    <tr>\n",
       "      <th>5738</th>\n",
       "      <td>2017-12-31</td>\n",
       "      <td>38.376</td>\n",
       "    </tr>\n",
       "    <tr>\n",
       "      <th>2821</th>\n",
       "      <td>2017-12-31</td>\n",
       "      <td>302.376</td>\n",
       "    </tr>\n",
       "    <tr>\n",
       "      <th>6341</th>\n",
       "      <td>2017-12-31</td>\n",
       "      <td>156.512</td>\n",
       "    </tr>\n",
       "    <tr>\n",
       "      <th>4613</th>\n",
       "      <td>2017-12-31</td>\n",
       "      <td>23.480</td>\n",
       "    </tr>\n",
       "    <tr>\n",
       "      <th>4612</th>\n",
       "      <td>2017-12-31</td>\n",
       "      <td>47.616</td>\n",
       "    </tr>\n",
       "  </tbody>\n",
       "</table>\n",
       "</div>"
      ],
      "text/plain": [
       "             ds        y\n",
       "5738 2017-12-31   38.376\n",
       "2821 2017-12-31  302.376\n",
       "6341 2017-12-31  156.512\n",
       "4613 2017-12-31   23.480\n",
       "4612 2017-12-31   47.616"
      ]
     },
     "execution_count": 34,
     "metadata": {},
     "output_type": "execute_result"
    }
   ],
   "source": [
    "train.tail()"
   ]
  },
  {
   "cell_type": "code",
   "execution_count": 35,
   "metadata": {},
   "outputs": [
    {
     "name": "stderr",
     "output_type": "stream",
     "text": [
      "/var/folders/20/h3bwm1qj7cz6s_fwcr2jvvf40000gn/T/ipykernel_37473/917928291.py:3: FutureWarning: The pandas.datetime class is deprecated and will be removed from pandas in a future version. Import from datetime module instead.\n",
      "  start_date=pd.datetime(start_year, start_month, start_day)\n",
      "/var/folders/20/h3bwm1qj7cz6s_fwcr2jvvf40000gn/T/ipykernel_37473/917928291.py:4: FutureWarning: The pandas.datetime class is deprecated and will be removed from pandas in a future version. Import from datetime module instead.\n",
      "  end_date=pd.datetime(end_year, end_month, end_day)\n"
     ]
    },
    {
     "name": "stdout",
     "output_type": "stream",
     "text": [
      "Initial log joint probability = -4.73496\n",
      "    Iter      log prob        ||dx||      ||grad||       alpha      alpha0  # evals  Notes \n",
      "      99       20021.1   0.000670855       349.488           1           1      124   \n",
      "    Iter      log prob        ||dx||      ||grad||       alpha      alpha0  # evals  Notes \n",
      "     199       20021.3   2.73197e-05       225.401      0.3763      0.9171      247   \n",
      "    Iter      log prob        ||dx||      ||grad||       alpha      alpha0  # evals  Notes \n",
      "     243       20021.4   6.20807e-05       534.411   2.857e-07       0.001      351  LS failed, Hessian reset \n",
      "     276       20021.5   6.80149e-06        192.19   3.221e-08       0.001      441  LS failed, Hessian reset \n",
      "     299       20021.5   8.83846e-07       65.1938      0.6848      0.6848      469   \n",
      "    Iter      log prob        ||dx||      ||grad||       alpha      alpha0  # evals  Notes \n",
      "     310       20021.5   9.84348e-07       75.5447      0.6781      0.6781      481   \n",
      "Optimization terminated normally: \n",
      "  Convergence detected: relative gradient magnitude is below tolerance\n"
     ]
    }
   ],
   "source": [
    "# Fit the model\n",
    "prophet_model.fit(train)\n",
    "\n",
    "# Predict the store sales\n",
    "in_sample_future = gen_days(2018, 1, 1, 2018, 12, 30)\n",
    "in_sample_future.columns = ['ds']\n",
    "\n",
    "in_sample_forecast = prophet_model.predict(in_sample_future)"
   ]
  },
  {
   "cell_type": "code",
   "execution_count": 36,
   "metadata": {},
   "outputs": [
    {
     "data": {
      "text/plain": [
       "(364, 22)"
      ]
     },
     "execution_count": 36,
     "metadata": {},
     "output_type": "execute_result"
    }
   ],
   "source": [
    "in_sample_forecast.shape"
   ]
  },
  {
   "cell_type": "markdown",
   "metadata": {},
   "source": [
    "There are multiple sales within a day, so what we can get is the average sales per day in year 2018 in our dataset."
   ]
  },
  {
   "cell_type": "code",
   "execution_count": 37,
   "metadata": {},
   "outputs": [],
   "source": [
    "y = df_prophet[df_prophet['ds'].dt.year.isin([2018])]\n",
    "y_mean = y.groupby('ds', as_index=False)['y'].mean()"
   ]
  },
  {
   "cell_type": "code",
   "execution_count": 38,
   "metadata": {},
   "outputs": [
    {
     "data": {
      "text/plain": [
       "(322, 2)"
      ]
     },
     "execution_count": 38,
     "metadata": {},
     "output_type": "execute_result"
    }
   ],
   "source": [
    "y_mean.shape"
   ]
  },
  {
   "cell_type": "markdown",
   "metadata": {},
   "source": [
    "There's a discrepency between the shapes of predicted sales and true sales. I'll just disregard the predictions in the dates outside the dataset. "
   ]
  },
  {
   "cell_type": "code",
   "execution_count": 39,
   "metadata": {},
   "outputs": [],
   "source": [
    "matching_dates = in_sample_forecast['ds'].isin(y_mean['ds'])\n",
    "keep_forecast = in_sample_forecast[matching_dates]"
   ]
  },
  {
   "cell_type": "code",
   "execution_count": 40,
   "metadata": {},
   "outputs": [],
   "source": [
    "y_true = y_mean['y'].values\n",
    "y_pred = keep_forecast['yhat'].values"
   ]
  },
  {
   "cell_type": "code",
   "execution_count": 41,
   "metadata": {},
   "outputs": [
    {
     "name": "stdout",
     "output_type": "stream",
     "text": [
      "mean absolute error: 159.643\n"
     ]
    },
    {
     "data": {
      "image/png": "[encoded data removed]",
      "text/plain": [
       "<Figure size 432x288 with 1 Axes>"
      ]
     },
     "metadata": {
      "needs_background": "light"
     },
     "output_type": "display_data"
    }
   ],
   "source": [
    "# Get the mean absolute error\n",
    "mae = mean_absolute_error(y_true, y_pred)\n",
    "print('mean absolute error: %.3f' % mae)\n",
    "\n",
    "# Plot expected vs actual\n",
    "pyplot.plot(y_true, label='Actual ave.')\n",
    "pyplot.plot(y_pred, label='Predicted')\n",
    "pyplot.legend()\n",
    "pyplot.show()"
   ]
  },
  {
   "cell_type": "markdown",
   "metadata": {},
   "source": [
    "The prediction got most of the average sales except for the peaks."
   ]
  },
  {
   "cell_type": "markdown",
   "metadata": {},
   "source": [
    "### 2) Make an Out-of-Sample Forecast\n",
    "\n",
    "Let's make a prediction on the sales of the next 4 months (~120 days) from the last date of the dataset."
   ]
  },
  {
   "cell_type": "code",
   "execution_count": 42,
   "metadata": {},
   "outputs": [
    {
     "name": "stdout",
     "output_type": "stream",
     "text": [
      "Initial log joint probability = -5.88213\n",
      "    Iter      log prob        ||dx||      ||grad||       alpha      alpha0  # evals  Notes \n",
      "      99       30254.2   0.000385464       299.561      0.4204           1      120   \n",
      "    Iter      log prob        ||dx||      ||grad||       alpha      alpha0  # evals  Notes \n",
      "     199       30254.7   0.000118449       215.679           1           1      236   \n",
      "    Iter      log prob        ||dx||      ||grad||       alpha      alpha0  # evals  Notes \n",
      "     299       30254.8    6.8057e-05       106.496      0.7807      0.7807      369   \n",
      "    Iter      log prob        ||dx||      ||grad||       alpha      alpha0  # evals  Notes \n",
      "     316       30254.8   3.69651e-06       74.0788           1           1      391   \n",
      "Optimization terminated normally: \n",
      "  Convergence detected: relative gradient magnitude is below tolerance\n"
     ]
    }
   ],
   "source": [
    "# Define the model\n",
    "prophet_model2 = Prophet(interval_width=0.95, daily_seasonality=True)\n",
    "\n",
    "# Fit the model\n",
    "prophet_model2.fit(df_prophet)\n",
    "\n",
    "# Predict the store sales\n",
    "out_sample_future = prophet_model2.make_future_dataframe(periods=120,freq='D')\n",
    "out_sample_forecast = prophet_model2.predict(out_sample_future)"
   ]
  },
  {
   "cell_type": "code",
   "execution_count": 43,
   "metadata": {},
   "outputs": [
    {
     "data": {
      "image/png": "[encoded data removed]",
      "text/plain": [
       "<Figure size 720x432 with 1 Axes>"
      ]
     },
     "metadata": {},
     "output_type": "display_data"
    }
   ],
   "source": [
    "prophet_model2.plot(out_sample_forecast)\n",
    "pyplot.show()"
   ]
  },
  {
   "cell_type": "code",
   "execution_count": 44,
   "metadata": {},
   "outputs": [
    {
     "data": {
      "image/png": "[encoded data removed]",
      "text/plain": [
       "<Figure size 648x864 with 4 Axes>"
      ]
     },
     "metadata": {},
     "output_type": "display_data"
    }
   ],
   "source": [
    "plot_2 = prophet_model2.plot_components(out_sample_forecast)"
   ]
  },
  {
   "cell_type": "markdown",
   "metadata": {},
   "source": [
    "### Cross-Validation"
   ]
  },
  {
   "cell_type": "code",
   "execution_count": 45,
   "metadata": {},
   "outputs": [
    {
     "name": "stderr",
     "output_type": "stream",
     "text": [
      "INFO:fbprophet:Making 2 forecasts with cutoffs between 2017-06-30 12:00:00 and 2017-12-30 00:00:00\n",
      "  0%|          | 0/2 [00:00<?, ?it/s]"
     ]
    },
    {
     "name": "stdout",
     "output_type": "stream",
     "text": [
      "Initial log joint probability = -6.68041\n",
      "    Iter      log prob        ||dx||      ||grad||       alpha      alpha0  # evals  Notes \n",
      "      99         15347   5.22424e-05       111.823      0.6996      0.6996      120   \n",
      "    Iter      log prob        ||dx||      ||grad||       alpha      alpha0  # evals  Notes \n",
      "     140       15347.1   1.80522e-05       205.741   1.637e-07       0.001      215  LS failed, Hessian reset \n",
      "     199       15347.1   4.54357e-06       66.5751           1           1      295   \n",
      "    Iter      log prob        ||dx||      ||grad||       alpha      alpha0  # evals  Notes \n",
      "     230       15347.1    1.1023e-06       51.8363      0.3435           1      334   \n",
      "Optimization terminated normally: \n",
      "  Convergence detected: relative gradient magnitude is below tolerance\n"
     ]
    },
    {
     "name": "stderr",
     "output_type": "stream",
     "text": [
      " 50%|█████     | 1/2 [00:02<00:02,  2.16s/it]"
     ]
    },
    {
     "name": "stdout",
     "output_type": "stream",
     "text": [
      "Initial log joint probability = -4.73888\n",
      "    Iter      log prob        ||dx||      ||grad||       alpha      alpha0  # evals  Notes \n",
      "      99       19996.3   5.32207e-05       114.089      0.2723      0.5922      121   \n",
      "    Iter      log prob        ||dx||      ||grad||       alpha      alpha0  # evals  Notes \n",
      "     199       19996.6   8.20772e-05       89.4341           1           1      242   \n",
      "    Iter      log prob        ||dx||      ||grad||       alpha      alpha0  # evals  Notes \n",
      "     275       19996.8   1.58547e-05       355.139   7.236e-08       0.001      376  LS failed, Hessian reset \n",
      "     299       19996.8   4.92903e-05       259.524      0.5705      0.5705      403   \n",
      "    Iter      log prob        ||dx||      ||grad||       alpha      alpha0  # evals  Notes \n",
      "     337       19996.8   4.62945e-07       75.3717      0.1234      0.3745      449   \n",
      "Optimization terminated normally: \n",
      "  Convergence detected: relative gradient magnitude is below tolerance\n"
     ]
    },
    {
     "name": "stderr",
     "output_type": "stream",
     "text": [
      "100%|██████████| 2/2 [00:04<00:00,  2.46s/it]\n"
     ]
    }
   ],
   "source": [
    "df_cv = cross_validation(prophet_model2, initial='730 days', horizon = '365 days')"
   ]
  },
  {
   "cell_type": "code",
   "execution_count": 46,
   "metadata": {},
   "outputs": [
    {
     "data": {
      "text/html": [
       "<div>\n",
       "<style scoped>\n",
       "    .dataframe tbody tr th:only-of-type {\n",
       "        vertical-align: middle;\n",
       "    }\n",
       "\n",
       "    .dataframe tbody tr th {\n",
       "        vertical-align: top;\n",
       "    }\n",
       "\n",
       "    .dataframe thead th {\n",
       "        text-align: right;\n",
       "    }\n",
       "</style>\n",
       "<table border=\"1\" class=\"dataframe\">\n",
       "  <thead>\n",
       "    <tr style=\"text-align: right;\">\n",
       "      <th></th>\n",
       "      <th>ds</th>\n",
       "      <th>yhat</th>\n",
       "      <th>yhat_lower</th>\n",
       "      <th>yhat_upper</th>\n",
       "      <th>y</th>\n",
       "      <th>cutoff</th>\n",
       "    </tr>\n",
       "  </thead>\n",
       "  <tbody>\n",
       "    <tr>\n",
       "      <th>0</th>\n",
       "      <td>2017-07-01</td>\n",
       "      <td>208.673511</td>\n",
       "      <td>-1063.099986</td>\n",
       "      <td>1622.745713</td>\n",
       "      <td>34.580</td>\n",
       "      <td>2017-06-30 12:00:00</td>\n",
       "    </tr>\n",
       "    <tr>\n",
       "      <th>1</th>\n",
       "      <td>2017-07-01</td>\n",
       "      <td>208.673511</td>\n",
       "      <td>-989.298300</td>\n",
       "      <td>1473.067437</td>\n",
       "      <td>25.920</td>\n",
       "      <td>2017-06-30 12:00:00</td>\n",
       "    </tr>\n",
       "    <tr>\n",
       "      <th>2</th>\n",
       "      <td>2017-07-01</td>\n",
       "      <td>208.673511</td>\n",
       "      <td>-1087.726436</td>\n",
       "      <td>1556.275372</td>\n",
       "      <td>23.076</td>\n",
       "      <td>2017-06-30 12:00:00</td>\n",
       "    </tr>\n",
       "    <tr>\n",
       "      <th>3</th>\n",
       "      <td>2017-07-02</td>\n",
       "      <td>185.815178</td>\n",
       "      <td>-1198.524340</td>\n",
       "      <td>1494.537296</td>\n",
       "      <td>623.960</td>\n",
       "      <td>2017-06-30 12:00:00</td>\n",
       "    </tr>\n",
       "    <tr>\n",
       "      <th>4</th>\n",
       "      <td>2017-07-02</td>\n",
       "      <td>185.815178</td>\n",
       "      <td>-1185.987988</td>\n",
       "      <td>1511.818619</td>\n",
       "      <td>100.000</td>\n",
       "      <td>2017-06-30 12:00:00</td>\n",
       "    </tr>\n",
       "  </tbody>\n",
       "</table>\n",
       "</div>"
      ],
      "text/plain": [
       "          ds        yhat   yhat_lower   yhat_upper        y  \\\n",
       "0 2017-07-01  208.673511 -1063.099986  1622.745713   34.580   \n",
       "1 2017-07-01  208.673511  -989.298300  1473.067437   25.920   \n",
       "2 2017-07-01  208.673511 -1087.726436  1556.275372   23.076   \n",
       "3 2017-07-02  185.815178 -1198.524340  1494.537296  623.960   \n",
       "4 2017-07-02  185.815178 -1185.987988  1511.818619  100.000   \n",
       "\n",
       "               cutoff  \n",
       "0 2017-06-30 12:00:00  \n",
       "1 2017-06-30 12:00:00  \n",
       "2 2017-06-30 12:00:00  \n",
       "3 2017-06-30 12:00:00  \n",
       "4 2017-06-30 12:00:00  "
      ]
     },
     "execution_count": 46,
     "metadata": {},
     "output_type": "execute_result"
    }
   ],
   "source": [
    "df_cv.head()"
   ]
  },
  {
   "cell_type": "code",
   "execution_count": 47,
   "metadata": {},
   "outputs": [
    {
     "name": "stderr",
     "output_type": "stream",
     "text": [
      "  0%|          | 0/2 [00:00<?, ?it/s]"
     ]
    },
    {
     "name": "stdout",
     "output_type": "stream",
     "text": [
      "Initial log joint probability = -6.68041\n",
      "    Iter      log prob        ||dx||      ||grad||       alpha      alpha0  # evals  Notes \n",
      "      99         15347   5.22424e-05       111.823      0.6996      0.6996      120   \n",
      "    Iter      log prob        ||dx||      ||grad||       alpha      alpha0  # evals  Notes \n",
      "     140       15347.1   1.80522e-05       205.741   1.637e-07       0.001      215  LS failed, Hessian reset \n",
      "     199       15347.1   4.54357e-06       66.5751           1           1      295   \n",
      "    Iter      log prob        ||dx||      ||grad||       alpha      alpha0  # evals  Notes \n",
      "     230       15347.1    1.1023e-06       51.8363      0.3435           1      334   \n",
      "Optimization terminated normally: \n",
      "  Convergence detected: relative gradient magnitude is below tolerance\n"
     ]
    },
    {
     "name": "stderr",
     "output_type": "stream",
     "text": [
      " 50%|█████     | 1/2 [00:02<00:02,  2.11s/it]"
     ]
    },
    {
     "name": "stdout",
     "output_type": "stream",
     "text": [
      "Initial log joint probability = -4.73888\n",
      "    Iter      log prob        ||dx||      ||grad||       alpha      alpha0  # evals  Notes \n",
      "      99       19996.3   5.32207e-05       114.089      0.2723      0.5922      121   \n",
      "    Iter      log prob        ||dx||      ||grad||       alpha      alpha0  # evals  Notes \n",
      "     199       19996.6   8.20772e-05       89.4341           1           1      242   \n",
      "    Iter      log prob        ||dx||      ||grad||       alpha      alpha0  # evals  Notes \n",
      "     275       19996.8   1.58547e-05       355.139   7.236e-08       0.001      376  LS failed, Hessian reset \n",
      "     299       19996.8   4.92903e-05       259.524      0.5705      0.5705      403   \n",
      "    Iter      log prob        ||dx||      ||grad||       alpha      alpha0  # evals  Notes \n",
      "     337       19996.8   4.62945e-07       75.3717      0.1234      0.3745      449   \n",
      "Optimization terminated normally: \n",
      "  Convergence detected: relative gradient magnitude is below tolerance\n"
     ]
    },
    {
     "name": "stderr",
     "output_type": "stream",
     "text": [
      "100%|██████████| 2/2 [00:04<00:00,  2.42s/it]\n"
     ]
    }
   ],
   "source": [
    "cutoffs = pd.to_datetime(['2017-06-30', '2017-12-30'])\n",
    "df_cv2 = cross_validation(prophet_model2, cutoffs=cutoffs, horizon='365 days')"
   ]
  },
  {
   "cell_type": "code",
   "execution_count": 48,
   "metadata": {},
   "outputs": [
    {
     "data": {
      "text/html": [
       "<div>\n",
       "<style scoped>\n",
       "    .dataframe tbody tr th:only-of-type {\n",
       "        vertical-align: middle;\n",
       "    }\n",
       "\n",
       "    .dataframe tbody tr th {\n",
       "        vertical-align: top;\n",
       "    }\n",
       "\n",
       "    .dataframe thead th {\n",
       "        text-align: right;\n",
       "    }\n",
       "</style>\n",
       "<table border=\"1\" class=\"dataframe\">\n",
       "  <thead>\n",
       "    <tr style=\"text-align: right;\">\n",
       "      <th></th>\n",
       "      <th>horizon</th>\n",
       "      <th>mse</th>\n",
       "      <th>rmse</th>\n",
       "      <th>mae</th>\n",
       "      <th>mape</th>\n",
       "      <th>mdape</th>\n",
       "      <th>coverage</th>\n",
       "    </tr>\n",
       "  </thead>\n",
       "  <tbody>\n",
       "    <tr>\n",
       "      <th>0</th>\n",
       "      <td>42 days 12:00:00</td>\n",
       "      <td>311558.453988</td>\n",
       "      <td>558.174215</td>\n",
       "      <td>324.920203</td>\n",
       "      <td>14.494632</td>\n",
       "      <td>4.596399</td>\n",
       "      <td>0.970588</td>\n",
       "    </tr>\n",
       "    <tr>\n",
       "      <th>1</th>\n",
       "      <td>43 days 00:00:00</td>\n",
       "      <td>291807.488817</td>\n",
       "      <td>540.192085</td>\n",
       "      <td>322.562224</td>\n",
       "      <td>14.689304</td>\n",
       "      <td>4.856360</td>\n",
       "      <td>0.970724</td>\n",
       "    </tr>\n",
       "    <tr>\n",
       "      <th>2</th>\n",
       "      <td>43 days 12:00:00</td>\n",
       "      <td>264175.956454</td>\n",
       "      <td>513.980502</td>\n",
       "      <td>317.355314</td>\n",
       "      <td>14.734246</td>\n",
       "      <td>4.856360</td>\n",
       "      <td>0.972086</td>\n",
       "    </tr>\n",
       "    <tr>\n",
       "      <th>3</th>\n",
       "      <td>44 days 00:00:00</td>\n",
       "      <td>250904.722966</td>\n",
       "      <td>500.903906</td>\n",
       "      <td>315.670573</td>\n",
       "      <td>14.223213</td>\n",
       "      <td>4.648478</td>\n",
       "      <td>0.973856</td>\n",
       "    </tr>\n",
       "    <tr>\n",
       "      <th>4</th>\n",
       "      <td>44 days 12:00:00</td>\n",
       "      <td>249423.190117</td>\n",
       "      <td>499.422857</td>\n",
       "      <td>314.566280</td>\n",
       "      <td>14.263692</td>\n",
       "      <td>4.765350</td>\n",
       "      <td>0.973856</td>\n",
       "    </tr>\n",
       "  </tbody>\n",
       "</table>\n",
       "</div>"
      ],
      "text/plain": [
       "           horizon            mse        rmse         mae       mape  \\\n",
       "0 42 days 12:00:00  311558.453988  558.174215  324.920203  14.494632   \n",
       "1 43 days 00:00:00  291807.488817  540.192085  322.562224  14.689304   \n",
       "2 43 days 12:00:00  264175.956454  513.980502  317.355314  14.734246   \n",
       "3 44 days 00:00:00  250904.722966  500.903906  315.670573  14.223213   \n",
       "4 44 days 12:00:00  249423.190117  499.422857  314.566280  14.263692   \n",
       "\n",
       "      mdape  coverage  \n",
       "0  4.596399  0.970588  \n",
       "1  4.856360  0.970724  \n",
       "2  4.856360  0.972086  \n",
       "3  4.648478  0.973856  \n",
       "4  4.765350  0.973856  "
      ]
     },
     "execution_count": 48,
     "metadata": {},
     "output_type": "execute_result"
    }
   ],
   "source": [
    "df_p = performance_metrics(df_cv)\n",
    "df_p.head()"
   ]
  },
  {
   "cell_type": "code",
   "execution_count": 49,
   "metadata": {},
   "outputs": [
    {
     "name": "stderr",
     "output_type": "stream",
     "text": [
      "/opt/anaconda3/lib/python3.8/site-packages/fbprophet/plot.py:526: FutureWarning: casting timedelta64[ns] values to int64 with .astype(...) is deprecated and will raise in a future version. Use .view(...) instead.\n",
      "  x_plt = df_none['horizon'].astype('timedelta64[ns]').astype(np.int64) / float(dt_conversions[i])\n",
      "/opt/anaconda3/lib/python3.8/site-packages/fbprophet/plot.py:527: FutureWarning: casting timedelta64[ns] values to int64 with .astype(...) is deprecated and will raise in a future version. Use .view(...) instead.\n",
      "  x_plt_h = df_h['horizon'].astype('timedelta64[ns]').astype(np.int64) / float(dt_conversions[i])\n"
     ]
    },
    {
     "data": {
      "image/png": "[encoded data removed]",
      "text/plain": [
       "<Figure size 720x432 with 1 Axes>"
      ]
     },
     "metadata": {},
     "output_type": "display_data"
    }
   ],
   "source": [
    "fig = plot_cross_validation_metric(df_cv, metric='mape')"
   ]
  },
  {
   "cell_type": "markdown",
   "metadata": {},
   "source": [
    "### Hyperparameter Tuning"
   ]
  },
  {
   "cell_type": "code",
   "execution_count": 50,
   "metadata": {},
   "outputs": [
    {
     "name": "stderr",
     "output_type": "stream",
     "text": [
      "INFO:fbprophet:Disabling daily seasonality. Run prophet with daily_seasonality=True to override this.\n",
      "INFO:fbprophet:Applying in parallel with <concurrent.futures.process.ProcessPoolExecutor object at 0x7fdbdb0d8490>\n"
     ]
    },
    {
     "name": "stdout",
     "output_type": "stream",
     "text": [
      "Initial log joint probability = -5.88213\n",
      "    Iter      log prob        ||dx||      ||grad||       alpha      alpha0  # evals  Notes \n",
      "      95       30252.8   1.98775e-06        5032.6   3.926e-10       0.001      166  LS failed, Hessian reset \n",
      "      99       30252.8   5.01001e-07       4880.44      0.2202           1      171   \n",
      "    Iter      log prob        ||dx||      ||grad||       alpha      alpha0  # evals  Notes \n",
      "     105       30252.8   6.87223e-09       4815.39     0.09939     0.09939      180   \n",
      "Optimization terminated normally: \n",
      "  Convergence detected: absolute parameter change was below tolerance\n",
      "Initial log joint probability = -4.73888\n",
      "    Iter      log prob        ||dx||      ||grad||       alpha      alpha0  # evals  Notes \n",
      "Initial log joint probability = -6.68041\n",
      "    Iter      log prob        ||dx||      ||grad||       alpha      alpha0  # evals  Notes \n",
      "      99       19994.5   2.72366e-08       4922.37      0.5431      0.5431      130   \n",
      "    Iter      log prob        ||dx||      ||grad||       alpha      alpha0  # evals  Notes \n",
      "     111       19994.5   1.58936e-08       4628.03      0.2552           1      146   \n",
      "Optimization terminated normally: \n",
      "  Convergence detected: relative gradient magnitude is below tolerance\n",
      "      99       15343.9    7.3982e-06       4734.68   1.497e-09       0.001      168  LS failed, Hessian reset \n",
      "    Iter      log prob        ||dx||      ||grad||       alpha      alpha0  # evals  Notes \n",
      "     136         15344   1.16874e-07       4691.56   2.313e-11       0.001      249  LS failed, Hessian reset \n",
      "     144         15344   5.93031e-09       4579.79      0.3592      0.3592      258   \n",
      "Optimization terminated normally: \n",
      "  Convergence detected: absolute parameter change was below tolerance\n"
     ]
    },
    {
     "name": "stderr",
     "output_type": "stream",
     "text": [
      "INFO:fbprophet:Disabling daily seasonality. Run prophet with daily_seasonality=True to override this.\n",
      "INFO:fbprophet:Applying in parallel with <concurrent.futures.process.ProcessPoolExecutor object at 0x7fdbe8c3b340>\n"
     ]
    },
    {
     "name": "stdout",
     "output_type": "stream",
     "text": [
      "Initial log joint probability = -5.88213\n",
      "    Iter      log prob        ||dx||      ||grad||       alpha      alpha0  # evals  Notes \n",
      "      82       30253.6   2.33701e-05       5088.29   4.606e-09       0.001      139  LS failed, Hessian reset \n",
      "      99       30253.7   4.90215e-07       5068.87      0.1748           1      165   \n",
      "    Iter      log prob        ||dx||      ||grad||       alpha      alpha0  # evals  Notes \n",
      "     117       30253.7   1.16733e-06       5029.03    2.31e-10       0.001      225  LS failed, Hessian reset \n",
      "     142       30253.7   3.20443e-07       5009.86   6.352e-11       0.001      304  LS failed, Hessian reset \n",
      "     151       30253.7    3.1691e-09       5096.01       0.167       0.167      316   \n",
      "Optimization terminated normally: \n",
      "  Convergence detected: absolute parameter change was below tolerance\n",
      "Initial log joint probability = -4.73888\n",
      "    Iter      log prob        ||dx||      ||grad||       alpha      alpha0  # evals  Notes \n",
      "Initial log joint probability = -6.68041\n",
      "    Iter      log prob        ||dx||      ||grad||       alpha      alpha0  # evals  Notes \n",
      "      99       19995.4   2.16843e-07       5111.51           1           1      120   \n",
      "    Iter      log prob        ||dx||      ||grad||       alpha      alpha0  # evals  Notes \n",
      "      99       15345.4   8.10479e-06       5314.95           1           1      138   \n",
      "    Iter      log prob        ||dx||      ||grad||       alpha      alpha0  # evals  Notes \n",
      "     130       15345.4   7.87524e-09       4397.03       0.373       0.373      177   \n",
      "Optimization terminated normally: \n",
      "  Convergence detected: absolute parameter change was below tolerance\n",
      "     113       19995.7   1.78318e-05       5348.56    3.43e-09       0.001      180  LS failed, Hessian reset \n",
      "     158       19995.9   1.36813e-08        4755.2      0.4947      0.4947      236   \n",
      "Optimization terminated normally: \n",
      "  Convergence detected: relative gradient magnitude is below tolerance\n"
     ]
    },
    {
     "name": "stderr",
     "output_type": "stream",
     "text": [
      "INFO:fbprophet:Disabling daily seasonality. Run prophet with daily_seasonality=True to override this.\n",
      "INFO:fbprophet:Applying in parallel with <concurrent.futures.process.ProcessPoolExecutor object at 0x7fdbf86f7760>\n"
     ]
    },
    {
     "name": "stdout",
     "output_type": "stream",
     "text": [
      "Initial log joint probability = -5.88213\n",
      "    Iter      log prob        ||dx||      ||grad||       alpha      alpha0  # evals  Notes \n",
      "      88       30253.6   2.53743e-05       4998.38   5.036e-09       0.001      160  LS failed, Hessian reset \n",
      "      99       30253.7   1.08326e-06       5072.13           1           1      176   \n",
      "    Iter      log prob        ||dx||      ||grad||       alpha      alpha0  # evals  Notes \n",
      "     110       30253.7   9.79096e-09       4973.29      0.1435      0.1435      190   \n",
      "Optimization terminated normally: \n",
      "  Convergence detected: absolute parameter change was below tolerance\n",
      "Initial log joint probability = -6.68041\n",
      "    Iter      log prob        ||dx||      ||grad||       alpha      alpha0  # evals  Notes \n",
      "Initial log joint probability = -4.73888\n",
      "    Iter      log prob        ||dx||      ||grad||       alpha      alpha0  # evals  Notes \n",
      "      94       15345.9   7.39019e-09       4837.22      0.1628      0.1628      129   \n",
      "Optimization terminated normally: \n",
      "  Convergence detected: absolute parameter change was below tolerance\n",
      "      99       19995.9   5.37735e-08       4821.05      0.2499      0.2499      124   \n",
      "    Iter      log prob        ||dx||      ||grad||       alpha      alpha0  # evals  Notes \n",
      "     115       19995.9   6.09547e-09       5087.13      0.3348      0.9534      147   \n",
      "Optimization terminated normally: \n",
      "  Convergence detected: absolute parameter change was below tolerance\n"
     ]
    },
    {
     "name": "stderr",
     "output_type": "stream",
     "text": [
      "INFO:fbprophet:Disabling daily seasonality. Run prophet with daily_seasonality=True to override this.\n",
      "INFO:fbprophet:Applying in parallel with <concurrent.futures.process.ProcessPoolExecutor object at 0x7fdbdb0c1340>\n"
     ]
    },
    {
     "name": "stdout",
     "output_type": "stream",
     "text": [
      "Initial log joint probability = -5.88213\n",
      "    Iter      log prob        ||dx||      ||grad||       alpha      alpha0  # evals  Notes \n",
      "      99       30253.4   6.65599e-08       4591.78      0.3862      0.3862      127   \n",
      "    Iter      log prob        ||dx||      ||grad||       alpha      alpha0  # evals  Notes \n",
      "     108       30253.4   1.23799e-06       5072.24   2.455e-10       0.001      184  LS failed, Hessian reset \n",
      "     121       30253.4    4.6071e-09        4879.3     0.05425           1      201   \n",
      "Optimization terminated normally: \n",
      "  Convergence detected: absolute parameter change was below tolerance\n",
      "Initial log joint probability = -4.73888\n",
      "    Iter      log prob        ||dx||      ||grad||       alpha      alpha0  # evals  Notes \n",
      "Initial log joint probability = -6.68041\n",
      "    Iter      log prob        ||dx||      ||grad||       alpha      alpha0  # evals  Notes \n",
      "      95       19995.8   4.82161e-09       4962.57      0.2511      0.2511      121   \n",
      "Optimization terminated normally: \n",
      "  Convergence detected: absolute parameter change was below tolerance\n",
      "      99         15346   8.81631e-09       4893.09      0.4567      0.4567      139   \n",
      "Optimization terminated normally: \n",
      "  Convergence detected: absolute parameter change was below tolerance\n"
     ]
    },
    {
     "name": "stderr",
     "output_type": "stream",
     "text": [
      "INFO:fbprophet:Disabling daily seasonality. Run prophet with daily_seasonality=True to override this.\n",
      "INFO:fbprophet:Applying in parallel with <concurrent.futures.process.ProcessPoolExecutor object at 0x7fdbdb0ea2e0>\n"
     ]
    },
    {
     "name": "stdout",
     "output_type": "stream",
     "text": [
      "Initial log joint probability = -5.88213\n",
      "    Iter      log prob        ||dx||      ||grad||       alpha      alpha0  # evals  Notes \n",
      "      99       30253.7   2.00519e-05       533.019       0.614       0.614      122   \n",
      "    Iter      log prob        ||dx||      ||grad||       alpha      alpha0  # evals  Notes \n",
      "     131       30253.7   4.19727e-07       507.712           1           1      159   \n",
      "Optimization terminated normally: \n",
      "  Convergence detected: relative gradient magnitude is below tolerance\n",
      "Initial log joint probability = -4.73888\n",
      "    Iter      log prob        ||dx||      ||grad||       alpha      alpha0  # evals  Notes \n",
      "Initial log joint probability = -6.68041\n",
      "    Iter      log prob        ||dx||      ||grad||       alpha      alpha0  # evals  Notes \n",
      "      99       19995.7   4.09319e-05       482.858           1           1      125   \n",
      "    Iter      log prob        ||dx||      ||grad||       alpha      alpha0  # evals  Notes \n",
      "      99         15346    4.9307e-07       358.673    0.001265      0.8522      135   \n",
      "    Iter      log prob        ||dx||      ||grad||       alpha      alpha0  # evals  Notes \n",
      "     119       19995.9   0.000130339        1243.5   2.055e-07       0.001      198  LS failed, Hessian reset \n",
      "     175       15346.3    2.0406e-06       400.727   5.954e-09       0.001      277  LS failed, Hessian reset \n",
      "     177       15346.3   1.10784e-07       333.768      0.3287      0.9409      280   \n",
      "Optimization terminated normally: \n",
      "  Convergence detected: relative gradient magnitude is below tolerance\n",
      "     178         19996   7.38273e-06       474.049   1.771e-08       0.001      314  LS failed, Hessian reset \n",
      "     199         19996   5.73447e-07       387.461      0.3034           1      340   \n",
      "    Iter      log prob        ||dx||      ||grad||       alpha      alpha0  # evals  Notes \n",
      "     206         19996    4.1102e-08       458.578     0.08122           1      350   \n",
      "Optimization terminated normally: \n",
      "  Convergence detected: relative gradient magnitude is below tolerance\n"
     ]
    },
    {
     "name": "stderr",
     "output_type": "stream",
     "text": [
      "INFO:fbprophet:Disabling daily seasonality. Run prophet with daily_seasonality=True to override this.\n",
      "INFO:fbprophet:Applying in parallel with <concurrent.futures.process.ProcessPoolExecutor object at 0x7fdc0d2f42e0>\n"
     ]
    },
    {
     "name": "stdout",
     "output_type": "stream",
     "text": [
      "Initial log joint probability = -5.88213\n",
      "    Iter      log prob        ||dx||      ||grad||       alpha      alpha0  # evals  Notes \n",
      "      90       30253.6   2.88384e-05        543.32   2.761e-08       0.001      165  LS failed, Hessian reset \n",
      "      99       30253.8   6.18844e-05       510.523           1           1      176   \n",
      "    Iter      log prob        ||dx||      ||grad||       alpha      alpha0  # evals  Notes \n",
      "     164       30254.4   2.57525e-07       468.578      0.3264      0.3264      262   \n",
      "Optimization terminated normally: \n",
      "  Convergence detected: relative gradient magnitude is below tolerance\n",
      "Initial log joint probability = -6.68041\n",
      "    Iter      log prob        ||dx||      ||grad||       alpha      alpha0  # evals  Notes \n",
      "Initial log joint probability = -4.73888\n",
      "    Iter      log prob        ||dx||      ||grad||       alpha      alpha0  # evals  Notes \n",
      "      99       15346.1   1.72181e-05       265.291           1           1      124   \n",
      "    Iter      log prob        ||dx||      ||grad||       alpha      alpha0  # evals  Notes \n",
      "      99       19995.7   4.77623e-05       414.315           1           1      119   \n",
      "    Iter      log prob        ||dx||      ||grad||       alpha      alpha0  # evals  Notes \n",
      "     137       15346.3   0.000103832       449.615   2.062e-07       0.001      217  LS failed, Hessian reset \n",
      "     171       15346.3   1.53145e-06        381.42   4.144e-09       0.001      298  LS failed, Hessian reset \n",
      "     125       19995.9   5.31613e-05       670.255   4.393e-08       0.001      200  LS failed, Hessian reset \n",
      "     179       15346.3    8.7467e-08       222.896      0.2141           1      309   \n",
      "Optimization terminated normally: \n",
      "  Convergence detected: relative gradient magnitude is below tolerance\n",
      "     184       19996.1   2.26703e-07       463.008           1           1      267   \n",
      "Optimization terminated normally: \n",
      "  Convergence detected: relative gradient magnitude is below tolerance\n"
     ]
    },
    {
     "name": "stderr",
     "output_type": "stream",
     "text": [
      "INFO:fbprophet:Disabling daily seasonality. Run prophet with daily_seasonality=True to override this.\n",
      "INFO:fbprophet:Applying in parallel with <concurrent.futures.process.ProcessPoolExecutor object at 0x7fdbf84cac40>\n"
     ]
    },
    {
     "name": "stdout",
     "output_type": "stream",
     "text": [
      "Initial log joint probability = -5.88213\n",
      "    Iter      log prob        ||dx||      ||grad||       alpha      alpha0  # evals  Notes \n",
      "      99       30253.7   0.000293528       721.273      0.6972           1      123   \n",
      "    Iter      log prob        ||dx||      ||grad||       alpha      alpha0  # evals  Notes \n",
      "     136       30254.3   8.41049e-05       904.478   1.599e-07       0.001      222  LS failed, Hessian reset \n",
      "     165       30254.4   2.19495e-07       384.501      0.2747      0.5404      261   \n",
      "Optimization terminated normally: \n",
      "  Convergence detected: relative gradient magnitude is below tolerance\n",
      "Initial log joint probability = -4.73888\n",
      "    Iter      log prob        ||dx||      ||grad||       alpha      alpha0  # evals  Notes \n",
      "Initial log joint probability = -6.68041\n",
      "    Iter      log prob        ||dx||      ||grad||       alpha      alpha0  # evals  Notes \n",
      "      99       19995.7   1.38096e-05       457.606           1           1      122   \n",
      "    Iter      log prob        ||dx||      ||grad||       alpha      alpha0  # evals  Notes \n",
      "      99       15346.1   4.02868e-06       327.374           1           1      136   \n",
      "    Iter      log prob        ||dx||      ||grad||       alpha      alpha0  # evals  Notes \n",
      "     124       15346.3   0.000274183       653.914   5.875e-07       0.001      206  LS failed, Hessian reset \n",
      "     135       19995.9    0.00028308       1014.37    6.56e-07       0.001      236  LS failed, Hessian reset \n",
      "     163       15346.3   7.60767e-07       324.357   1.826e-09       0.001      299  LS failed, Hessian reset \n",
      "     171       15346.3     2.206e-07        314.41           1           1      310   \n",
      "Optimization terminated normally: \n",
      "  Convergence detected: relative gradient magnitude is below tolerance\n",
      "     190       19996.1   1.54202e-05       487.487   3.124e-08       0.001      350  LS failed, Hessian reset \n",
      "     199       19996.1   5.38345e-07       422.842      0.4558      0.4558      359   \n",
      "    Iter      log prob        ||dx||      ||grad||       alpha      alpha0  # evals  Notes \n",
      "     219       19996.1   2.07481e-07       475.974      0.9396      0.9396      383   \n",
      "Optimization terminated normally: \n",
      "  Convergence detected: relative gradient magnitude is below tolerance\n"
     ]
    },
    {
     "name": "stderr",
     "output_type": "stream",
     "text": [
      "INFO:fbprophet:Disabling daily seasonality. Run prophet with daily_seasonality=True to override this.\n",
      "INFO:fbprophet:Applying in parallel with <concurrent.futures.process.ProcessPoolExecutor object at 0x7fdbdb0c62e0>\n"
     ]
    },
    {
     "name": "stdout",
     "output_type": "stream",
     "text": [
      "Initial log joint probability = -5.88213\n",
      "    Iter      log prob        ||dx||      ||grad||       alpha      alpha0  # evals  Notes \n",
      "      99       30253.9   6.37038e-05        444.17      0.2391           1      121   \n",
      "    Iter      log prob        ||dx||      ||grad||       alpha      alpha0  # evals  Notes \n",
      "     130       30254.3   2.88912e-05        675.16   4.181e-08       0.001      204  LS failed, Hessian reset \n",
      "     152       30254.3   2.45183e-05       509.581   4.729e-08       0.001      270  LS failed, Hessian reset \n",
      "     169       30254.3   2.41439e-07       388.815      0.3687           1      297   \n",
      "Optimization terminated normally: \n",
      "  Convergence detected: relative gradient magnitude is below tolerance\n",
      "Initial log joint probability = -6.68041\n",
      "    Iter      log prob        ||dx||      ||grad||       alpha      alpha0  # evals  Notes \n",
      "Initial log joint probability = -4.73888\n",
      "    Iter      log prob        ||dx||      ||grad||       alpha      alpha0  # evals  Notes \n",
      "      99       15346.1   5.89206e-05       361.253           1           1      135   \n",
      "    Iter      log prob        ||dx||      ||grad||       alpha      alpha0  # evals  Notes \n",
      "      99       19995.7   1.30505e-05       456.279           1           1      122   \n",
      "    Iter      log prob        ||dx||      ||grad||       alpha      alpha0  # evals  Notes \n",
      "     125       15346.3   9.12221e-05       580.011   2.014e-07       0.001      210  LS failed, Hessian reset \n",
      "     168       15346.3   4.34441e-07       352.293      0.1639           1      261   \n",
      "Optimization terminated normally: \n",
      "  Convergence detected: relative gradient magnitude is below tolerance\n",
      "     118       19995.9   4.53639e-05       686.411   7.163e-08       0.001      192  LS failed, Hessian reset \n",
      "     189       19996.1   9.42103e-08       429.103     0.06662           1      277   \n",
      "Optimization terminated normally: \n",
      "  Convergence detected: relative gradient magnitude is below tolerance\n"
     ]
    },
    {
     "name": "stderr",
     "output_type": "stream",
     "text": [
      "INFO:fbprophet:Disabling daily seasonality. Run prophet with daily_seasonality=True to override this.\n",
      "INFO:fbprophet:Applying in parallel with <concurrent.futures.process.ProcessPoolExecutor object at 0x7fdbf84ca2e0>\n"
     ]
    },
    {
     "name": "stdout",
     "output_type": "stream",
     "text": [
      "Initial log joint probability = -5.88213\n",
      "    Iter      log prob        ||dx||      ||grad||       alpha      alpha0  # evals  Notes \n",
      "      99       30255.2   4.27888e-05       97.6838           1           1      116   \n",
      "    Iter      log prob        ||dx||      ||grad||       alpha      alpha0  # evals  Notes \n",
      "     145       30255.4    1.3093e-05        235.26    7.59e-08       0.001      213  LS failed, Hessian reset \n",
      "     199       30255.5   6.92356e-05       151.162           1           1      272   \n",
      "    Iter      log prob        ||dx||      ||grad||       alpha      alpha0  # evals  Notes \n",
      "     299       30255.7   0.000216126       203.682           1           1      391   \n",
      "    Iter      log prob        ||dx||      ||grad||       alpha      alpha0  # evals  Notes \n",
      "     399       30255.8   8.25026e-06       55.0049      0.3429      0.3429      509   \n",
      "    Iter      log prob        ||dx||      ||grad||       alpha      alpha0  # evals  Notes \n",
      "     427       30255.8   1.07642e-05       112.863   2.004e-07       0.001      588  LS failed, Hessian reset \n",
      "     445       30255.9   3.87533e-06       36.5028      0.6787      0.6787      609   \n",
      "Optimization terminated normally: \n",
      "  Convergence detected: relative gradient magnitude is below tolerance\n",
      "Initial log joint probability = -6.68041\n",
      "    Iter      log prob        ||dx||      ||grad||       alpha      alpha0  # evals  Notes \n",
      "Initial log joint probability = -4.73888\n",
      "    Iter      log prob        ||dx||      ||grad||       alpha      alpha0  # evals  Notes \n",
      "      99       15347.4   8.81635e-05       56.9428      0.2468           1      127   \n",
      "    Iter      log prob        ||dx||      ||grad||       alpha      alpha0  # evals  Notes \n",
      "     136       15347.4   1.30596e-06        37.133       0.643       0.643      179   \n",
      "Optimization terminated normally: \n",
      "  Convergence detected: relative gradient magnitude is below tolerance\n",
      "      99       19997.1   0.000646707       345.188           1           1      118   \n",
      "    Iter      log prob        ||dx||      ||grad||       alpha      alpha0  # evals  Notes \n",
      "     199       19997.4   1.37847e-05       43.2149           1           1      238   \n",
      "    Iter      log prob        ||dx||      ||grad||       alpha      alpha0  # evals  Notes \n",
      "     299       19997.5   0.000636275       89.4745           1           1      358   \n",
      "    Iter      log prob        ||dx||      ||grad||       alpha      alpha0  # evals  Notes \n",
      "     309       19997.5   1.40655e-05       161.198   9.177e-08       0.001      428  LS failed, Hessian reset \n",
      "     383       19997.6     4.641e-06       47.5875   3.954e-08       0.001      562  LS failed, Hessian reset \n",
      "     390       19997.6   2.65069e-06        31.591      0.8548      0.8548      569   \n",
      "Optimization terminated normally: \n",
      "  Convergence detected: relative gradient magnitude is below tolerance\n"
     ]
    },
    {
     "name": "stderr",
     "output_type": "stream",
     "text": [
      "INFO:fbprophet:Disabling daily seasonality. Run prophet with daily_seasonality=True to override this.\n",
      "INFO:fbprophet:Applying in parallel with <concurrent.futures.process.ProcessPoolExecutor object at 0x7fdbdb0c6dc0>\n"
     ]
    },
    {
     "name": "stdout",
     "output_type": "stream",
     "text": [
      "Initial log joint probability = -5.88213\n",
      "    Iter      log prob        ||dx||      ||grad||       alpha      alpha0  # evals  Notes \n",
      "      99         30255   3.74071e-05       130.948      0.9963      0.9963      113   \n",
      "    Iter      log prob        ||dx||      ||grad||       alpha      alpha0  # evals  Notes \n",
      "     199       30255.5   1.49141e-05       90.1966    0.007886           1      226   \n",
      "    Iter      log prob        ||dx||      ||grad||       alpha      alpha0  # evals  Notes \n",
      "     229       30255.6   1.20176e-05       133.895   1.474e-07       0.001      307  LS failed, Hessian reset \n",
      "     272       30255.6   5.41648e-06       39.6315      0.2634           1      359   \n",
      "Optimization terminated normally: \n",
      "  Convergence detected: relative gradient magnitude is below tolerance\n",
      "Initial log joint probability = -4.73888\n",
      "    Iter      log prob        ||dx||      ||grad||       alpha      alpha0  # evals  Notes \n",
      "Initial log joint probability = -6.68041\n",
      "    Iter      log prob        ||dx||      ||grad||       alpha      alpha0  # evals  Notes \n",
      "      99       19997.1   0.000254542       353.383      0.8728      0.8728      123   \n",
      "    Iter      log prob        ||dx||      ||grad||       alpha      alpha0  # evals  Notes \n",
      "      99       15347.5   0.000174027        164.72      0.6298      0.6298      129   \n",
      "    Iter      log prob        ||dx||      ||grad||       alpha      alpha0  # evals  Notes \n",
      "     164       15347.5   3.24248e-05        97.331    7.27e-07       0.001      257  LS failed, Hessian reset \n",
      "     175       15347.5   4.04249e-07        29.952       0.078      0.2258      272   \n",
      "Optimization terminated normally: \n",
      "  Convergence detected: relative gradient magnitude is below tolerance\n",
      "     199       19997.5    0.00153522       54.3858      0.8882      0.8882      238   \n",
      "    Iter      log prob        ||dx||      ||grad||       alpha      alpha0  # evals  Notes \n",
      "     299       19997.6   0.000146395       234.485           1           1      352   \n",
      "    Iter      log prob        ||dx||      ||grad||       alpha      alpha0  # evals  Notes \n",
      "     395       19997.6   6.50249e-06       71.4676   1.213e-07       0.001      517  LS failed, Hessian reset \n",
      "     399       19997.6   7.10146e-06       37.5485           1           1      521   \n",
      "    Iter      log prob        ||dx||      ||grad||       alpha      alpha0  # evals  Notes \n",
      "     403       19997.6   2.61822e-06       28.9763      0.8166      0.8166      525   \n",
      "Optimization terminated normally: \n",
      "  Convergence detected: relative gradient magnitude is below tolerance\n"
     ]
    },
    {
     "name": "stderr",
     "output_type": "stream",
     "text": [
      "INFO:fbprophet:Disabling daily seasonality. Run prophet with daily_seasonality=True to override this.\n",
      "INFO:fbprophet:Applying in parallel with <concurrent.futures.process.ProcessPoolExecutor object at 0x7fdc0d915e20>\n"
     ]
    },
    {
     "name": "stdout",
     "output_type": "stream",
     "text": [
      "Initial log joint probability = -5.88213\n",
      "    Iter      log prob        ||dx||      ||grad||       alpha      alpha0  # evals  Notes \n",
      "      99         30255    0.00237007       740.074           1           1      114   \n",
      "    Iter      log prob        ||dx||      ||grad||       alpha      alpha0  # evals  Notes \n",
      "     199       30255.5   8.82612e-05       110.268           1           1      227   \n",
      "    Iter      log prob        ||dx||      ||grad||       alpha      alpha0  # evals  Notes \n",
      "     299       30255.8   8.62083e-05        174.87       0.511           1      350   \n",
      "    Iter      log prob        ||dx||      ||grad||       alpha      alpha0  # evals  Notes \n",
      "     399       30255.9   8.73636e-05       41.1287      0.7843      0.7843      466   \n",
      "    Iter      log prob        ||dx||      ||grad||       alpha      alpha0  # evals  Notes \n",
      "     443       30255.9    8.3515e-06       34.0988           1           1      520   \n",
      "Optimization terminated normally: \n",
      "  Convergence detected: relative gradient magnitude is below tolerance\n",
      "Initial log joint probability = -6.68041\n",
      "    Iter      log prob        ||dx||      ||grad||       alpha      alpha0  # evals  Notes \n",
      "Initial log joint probability = -4.73888\n",
      "    Iter      log prob        ||dx||      ||grad||       alpha      alpha0  # evals  Notes \n",
      "      99       15347.5   0.000441062        70.394           1           1      121   \n",
      "    Iter      log prob        ||dx||      ||grad||       alpha      alpha0  # evals  Notes \n",
      "     149       15347.5   2.97444e-06       36.9451      0.3712           1      192   \n",
      "Optimization terminated normally: \n",
      "  Convergence detected: relative gradient magnitude is below tolerance\n",
      "      99       19997.2    0.00156329       85.8066           1           1      117   \n",
      "    Iter      log prob        ||dx||      ||grad||       alpha      alpha0  # evals  Notes \n",
      "     199       19997.5   0.000115961       114.907           1           1      229   \n",
      "    Iter      log prob        ||dx||      ||grad||       alpha      alpha0  # evals  Notes \n",
      "     299       19997.6   0.000120452       68.8637           1           1      347   \n",
      "    Iter      log prob        ||dx||      ||grad||       alpha      alpha0  # evals  Notes \n",
      "     311       19997.6    8.4707e-06        98.141   4.784e-08       0.001      405  LS failed, Hessian reset \n",
      "     373       19997.6    2.6062e-06       29.0541      0.8871      0.8871      484   \n",
      "Optimization terminated normally: \n",
      "  Convergence detected: relative gradient magnitude is below tolerance\n"
     ]
    },
    {
     "name": "stderr",
     "output_type": "stream",
     "text": [
      "INFO:fbprophet:Disabling daily seasonality. Run prophet with daily_seasonality=True to override this.\n",
      "INFO:fbprophet:Applying in parallel with <concurrent.futures.process.ProcessPoolExecutor object at 0x7fdbe85e69a0>\n"
     ]
    },
    {
     "name": "stdout",
     "output_type": "stream",
     "text": [
      "Initial log joint probability = -5.88213\n",
      "    Iter      log prob        ||dx||      ||grad||       alpha      alpha0  # evals  Notes \n",
      "      99       30255.1      0.003042       806.697           1           1      117   \n",
      "    Iter      log prob        ||dx||      ||grad||       alpha      alpha0  # evals  Notes \n",
      "     199       30255.6   9.00906e-05        107.49           1           1      234   \n",
      "    Iter      log prob        ||dx||      ||grad||       alpha      alpha0  # evals  Notes \n",
      "     299       30255.8   0.000249973       208.201      0.2592      0.2592      345   \n",
      "    Iter      log prob        ||dx||      ||grad||       alpha      alpha0  # evals  Notes \n",
      "     302       30255.8   2.97671e-06       58.8328   2.992e-08       0.001      400  LS failed, Hessian reset \n",
      "     337       30255.8   4.11212e-06       87.3651    4.04e-08       0.001      488  LS failed, Hessian reset \n",
      "     399       30255.9   8.50617e-05       91.8589      0.9707      0.9707      562   \n",
      "    Iter      log prob        ||dx||      ||grad||       alpha      alpha0  # evals  Notes \n",
      "     409       30255.9   5.48357e-06       37.3396      0.4473           1      573   \n",
      "Optimization terminated normally: \n",
      "  Convergence detected: relative gradient magnitude is below tolerance\n",
      "Initial log joint probability = -4.73888\n",
      "    Iter      log prob        ||dx||      ||grad||       alpha      alpha0  # evals  Notes \n",
      "Initial log joint probability = -6.68041\n",
      "    Iter      log prob        ||dx||      ||grad||       alpha      alpha0  # evals  Notes \n",
      "      99       19997.1   0.000251648       476.215           1           1      117   \n",
      "    Iter      log prob        ||dx||      ||grad||       alpha      alpha0  # evals  Notes \n",
      "      99       15347.5   0.000508665       72.7421           1           1      129   \n",
      "    Iter      log prob        ||dx||      ||grad||       alpha      alpha0  # evals  Notes \n",
      "     193       15347.5   2.74868e-06       33.2099      0.3618      0.3618      244   \n",
      "Optimization terminated normally: \n",
      "  Convergence detected: relative gradient magnitude is below tolerance\n",
      "     199       19997.5   8.90913e-05        143.95           1           1      237   \n",
      "    Iter      log prob        ||dx||      ||grad||       alpha      alpha0  # evals  Notes \n",
      "     249       19997.6   1.17208e-05       144.358   5.224e-08       0.001      337  LS failed, Hessian reset \n",
      "     299       19997.6     6.097e-05       38.7397           1           1      399   \n",
      "    Iter      log prob        ||dx||      ||grad||       alpha      alpha0  # evals  Notes \n",
      "     302       19997.6    3.8334e-06       46.0059   4.291e-08       0.001      450  LS failed, Hessian reset \n",
      "     324       19997.6    3.2032e-06       34.2886           1           1      477   \n",
      "Optimization terminated normally: \n",
      "  Convergence detected: relative gradient magnitude is below tolerance\n"
     ]
    },
    {
     "name": "stderr",
     "output_type": "stream",
     "text": [
      "INFO:fbprophet:Disabling daily seasonality. Run prophet with daily_seasonality=True to override this.\n",
      "INFO:fbprophet:Applying in parallel with <concurrent.futures.process.ProcessPoolExecutor object at 0x7fdbdb0de970>\n"
     ]
    },
    {
     "name": "stdout",
     "output_type": "stream",
     "text": [
      "Initial log joint probability = -5.88213\n",
      "    Iter      log prob        ||dx||      ||grad||       alpha      alpha0  # evals  Notes \n",
      "      99       30256.3   0.000129739       249.123      0.2248           1      114   \n",
      "    Iter      log prob        ||dx||      ||grad||       alpha      alpha0  # evals  Notes \n",
      "     199       30257.5   0.000362147       384.081      0.3588      0.3588      223   \n",
      "    Iter      log prob        ||dx||      ||grad||       alpha      alpha0  # evals  Notes \n",
      "     299       30258.9   0.000361874       219.408           1           1      327   \n",
      "    Iter      log prob        ||dx||      ||grad||       alpha      alpha0  # evals  Notes \n",
      "     384       30259.1   8.80853e-06       18.6056           1           1      418   \n",
      "Optimization terminated normally: \n",
      "  Convergence detected: relative gradient magnitude is below tolerance\n",
      "Initial log joint probability = -6.68041\n",
      "    Iter      log prob        ||dx||      ||grad||       alpha      alpha0  # evals  Notes \n",
      "Initial log joint probability = -4.73888\n",
      "    Iter      log prob        ||dx||      ||grad||       alpha      alpha0  # evals  Notes \n",
      "      99       15348.2    0.00012948       88.7486           1           1      118   \n",
      "    Iter      log prob        ||dx||      ||grad||       alpha      alpha0  # evals  Notes \n",
      "      99         19998    0.00172929       313.469       2.471      0.2471      116   \n",
      "    Iter      log prob        ||dx||      ||grad||       alpha      alpha0  # evals  Notes \n",
      "     199       15348.6   0.000106774       57.6502      0.6781      0.6781      226   \n",
      "    Iter      log prob        ||dx||      ||grad||       alpha      alpha0  # evals  Notes \n",
      "     299       15348.7   0.000258654       87.7453      0.8827      0.8827      334   \n",
      "    Iter      log prob        ||dx||      ||grad||       alpha      alpha0  # evals  Notes \n",
      "     199       19999.5   0.000263689       58.0522           1           1      227   \n",
      "    Iter      log prob        ||dx||      ||grad||       alpha      alpha0  # evals  Notes \n",
      "     399       15348.9   5.92044e-05       27.7479           1           1      444   \n",
      "    Iter      log prob        ||dx||      ||grad||       alpha      alpha0  # evals  Notes \n",
      "     299       19999.7   0.000558573       81.1514           1           1      334   \n",
      "    Iter      log prob        ||dx||      ||grad||       alpha      alpha0  # evals  Notes \n",
      "     499       15349.1    0.00551236       218.919           1           1      555   \n",
      "    Iter      log prob        ||dx||      ||grad||       alpha      alpha0  # evals  Notes \n",
      "     399       20000.3    0.00341881       202.243           1           1      442   \n",
      "    Iter      log prob        ||dx||      ||grad||       alpha      alpha0  # evals  Notes \n",
      "     599       15349.4    0.00115581       184.989           1           1      662   \n",
      "    Iter      log prob        ||dx||      ||grad||       alpha      alpha0  # evals  Notes \n",
      "     499       20000.7    0.00175734       152.852           1           1      556   \n",
      "    Iter      log prob        ||dx||      ||grad||       alpha      alpha0  # evals  Notes \n",
      "     699       15349.7   7.94425e-05       46.2558      0.2505      0.2505      769   \n",
      "    Iter      log prob        ||dx||      ||grad||       alpha      alpha0  # evals  Notes \n",
      "     799       15349.7   0.000303655       14.9144           1           1      883   \n",
      "    Iter      log prob        ||dx||      ||grad||       alpha      alpha0  # evals  Notes \n",
      "     599       20000.8   0.000591717       152.672           1           1      667   \n",
      "    Iter      log prob        ||dx||      ||grad||       alpha      alpha0  # evals  Notes \n",
      "     899       15349.8   3.10901e-05       27.0711      0.2118           1     1003   \n",
      "    Iter      log prob        ||dx||      ||grad||       alpha      alpha0  # evals  Notes \n",
      "     699       20000.9   2.83009e-05       25.5298           1           1      775   \n",
      "    Iter      log prob        ||dx||      ||grad||       alpha      alpha0  # evals  Notes \n",
      "     999       15349.9   0.000279348       89.3886      0.1662           1     1116   \n",
      "    Iter      log prob        ||dx||      ||grad||       alpha      alpha0  # evals  Notes \n",
      "     758       20000.9   8.66645e-06       10.5057           1           1      843   \n",
      "Optimization terminated normally: \n",
      "  Convergence detected: relative gradient magnitude is below tolerance\n",
      "    1027       15349.9   5.44521e-05       12.3356           1           1     1149   \n",
      "Optimization terminated normally: \n",
      "  Convergence detected: relative gradient magnitude is below tolerance\n"
     ]
    },
    {
     "name": "stderr",
     "output_type": "stream",
     "text": [
      "INFO:fbprophet:Disabling daily seasonality. Run prophet with daily_seasonality=True to override this.\n",
      "INFO:fbprophet:Applying in parallel with <concurrent.futures.process.ProcessPoolExecutor object at 0x7fdbf8ff1670>\n"
     ]
    },
    {
     "name": "stdout",
     "output_type": "stream",
     "text": [
      "Initial log joint probability = -5.88213\n",
      "    Iter      log prob        ||dx||      ||grad||       alpha      alpha0  # evals  Notes \n",
      "      99       30256.4   6.38358e-05       105.058           1           1      114   \n",
      "    Iter      log prob        ||dx||      ||grad||       alpha      alpha0  # evals  Notes \n",
      "     199       30258.3    0.00150667       172.319           1           1      223   \n",
      "    Iter      log prob        ||dx||      ||grad||       alpha      alpha0  # evals  Notes \n",
      "     299       30258.7    4.6908e-05       124.862      0.2003           1      332   \n",
      "    Iter      log prob        ||dx||      ||grad||       alpha      alpha0  # evals  Notes \n",
      "     399       30259.1   0.000121003       108.762       1.009      0.1009      440   \n",
      "    Iter      log prob        ||dx||      ||grad||       alpha      alpha0  # evals  Notes \n",
      "     499       30259.3   8.81829e-05        74.842      0.6963      0.6963      553   \n",
      "    Iter      log prob        ||dx||      ||grad||       alpha      alpha0  # evals  Notes \n",
      "     521       30259.4   3.13721e-05         32.22      0.2159           1      576   \n",
      "Optimization terminated normally: \n",
      "  Convergence detected: relative gradient magnitude is below tolerance\n",
      "Initial log joint probability = -6.68041\n",
      "    Iter      log prob        ||dx||      ||grad||       alpha      alpha0  # evals  Notes \n",
      "Initial log joint probability = -4.73888\n",
      "    Iter      log prob        ||dx||      ||grad||       alpha      alpha0  # evals  Notes \n",
      "      99       15348.1   4.92267e-05       77.3106           1           1      119   \n",
      "    Iter      log prob        ||dx||      ||grad||       alpha      alpha0  # evals  Notes \n",
      "      99       19998.5   7.05611e-05       103.351           1           1      116   \n",
      "    Iter      log prob        ||dx||      ||grad||       alpha      alpha0  # evals  Notes \n",
      "     199       15348.5   0.000105844       47.6851           1           1      228   \n",
      "    Iter      log prob        ||dx||      ||grad||       alpha      alpha0  # evals  Notes \n",
      "     199       19999.5   0.000401494       91.1234           1           1      225   \n",
      "    Iter      log prob        ||dx||      ||grad||       alpha      alpha0  # evals  Notes \n",
      "     299       15348.8   0.000789848         429.4           1           1      340   \n",
      "    Iter      log prob        ||dx||      ||grad||       alpha      alpha0  # evals  Notes \n",
      "     399       15349.1   0.000362927         136.9           1           1      453   \n",
      "    Iter      log prob        ||dx||      ||grad||       alpha      alpha0  # evals  Notes \n",
      "     299       19999.9   3.95979e-05       38.3985           1           1      329   \n",
      "    Iter      log prob        ||dx||      ||grad||       alpha      alpha0  # evals  Notes \n",
      "     490       15349.2   8.54434e-06       11.3497       1.252      0.1252      554   \n",
      "Optimization terminated normally: \n",
      "  Convergence detected: relative gradient magnitude is below tolerance\n",
      "     399       20000.2   0.000502243       46.9832           1           1      439   \n",
      "    Iter      log prob        ||dx||      ||grad||       alpha      alpha0  # evals  Notes \n",
      "     499       20000.6      0.001531       377.667           1           1      554   \n",
      "    Iter      log prob        ||dx||      ||grad||       alpha      alpha0  # evals  Notes \n",
      "     599       20000.9   0.000217496       31.5628           1           1      665   \n",
      "    Iter      log prob        ||dx||      ||grad||       alpha      alpha0  # evals  Notes \n",
      "     699         20001   0.000591015       66.8188           1           1      774   \n",
      "    Iter      log prob        ||dx||      ||grad||       alpha      alpha0  # evals  Notes \n",
      "     769       20001.1   2.44973e-06       24.1856   1.199e-07       0.001      895  LS failed, Hessian reset \n",
      "Optimization terminated normally: \n",
      "  Convergence detected: relative gradient magnitude is below tolerance\n"
     ]
    },
    {
     "name": "stderr",
     "output_type": "stream",
     "text": [
      "INFO:fbprophet:Disabling daily seasonality. Run prophet with daily_seasonality=True to override this.\n",
      "INFO:fbprophet:Applying in parallel with <concurrent.futures.process.ProcessPoolExecutor object at 0x7fdbe8bf6730>\n"
     ]
    },
    {
     "name": "stdout",
     "output_type": "stream",
     "text": [
      "Initial log joint probability = -5.88213\n",
      "    Iter      log prob        ||dx||      ||grad||       alpha      alpha0  # evals  Notes \n",
      "      99       30256.2    0.00056839       384.056           1           1      115   \n",
      "    Iter      log prob        ||dx||      ||grad||       alpha      alpha0  # evals  Notes \n",
      "     199       30258.3        0.0011       247.797           1           1      224   \n",
      "    Iter      log prob        ||dx||      ||grad||       alpha      alpha0  # evals  Notes \n",
      "     299       30258.8   0.000117693         155.6      0.5075           1      341   \n",
      "    Iter      log prob        ||dx||      ||grad||       alpha      alpha0  # evals  Notes \n",
      "     399         30259    7.4636e-05       89.7519           1           1      445   \n",
      "    Iter      log prob        ||dx||      ||grad||       alpha      alpha0  # evals  Notes \n",
      "     499       30259.3    0.00041131       99.8188           1           1      553   \n",
      "    Iter      log prob        ||dx||      ||grad||       alpha      alpha0  # evals  Notes \n",
      "     547       30259.5   9.80038e-06       38.7495      0.5144      0.9939      610   \n",
      "Optimization terminated normally: \n",
      "  Convergence detected: relative gradient magnitude is below tolerance\n",
      "Initial log joint probability = -4.73888\n",
      "    Iter      log prob        ||dx||      ||grad||       alpha      alpha0  # evals  Notes \n",
      "Initial log joint probability = -6.68041\n",
      "    Iter      log prob        ||dx||      ||grad||       alpha      alpha0  # evals  Notes \n",
      "      99       19998.5   0.000100497       84.8538      0.3766      0.3766      114   \n",
      "    Iter      log prob        ||dx||      ||grad||       alpha      alpha0  # evals  Notes \n",
      "      99       15348.3   0.000244627       124.254           1           1      118   \n",
      "    Iter      log prob        ||dx||      ||grad||       alpha      alpha0  # evals  Notes \n",
      "     199       15348.7    0.00335175       62.9078           1           1      226   \n",
      "    Iter      log prob        ||dx||      ||grad||       alpha      alpha0  # evals  Notes \n",
      "     199       19999.5   0.000652986       291.158           1           1      222   \n",
      "    Iter      log prob        ||dx||      ||grad||       alpha      alpha0  # evals  Notes \n",
      "     299       15348.9   8.38116e-05       21.1691           1           1      335   \n",
      "    Iter      log prob        ||dx||      ||grad||       alpha      alpha0  # evals  Notes \n",
      "     299       19999.9   3.69047e-05       38.0262           1           1      332   \n",
      "    Iter      log prob        ||dx||      ||grad||       alpha      alpha0  # evals  Notes \n",
      "     399       15349.1   0.000117807       72.1673           1           1      448   \n",
      "    Iter      log prob        ||dx||      ||grad||       alpha      alpha0  # evals  Notes \n",
      "     399       20000.1   0.000544718        68.187           1           1      444   \n",
      "    Iter      log prob        ||dx||      ||grad||       alpha      alpha0  # evals  Notes \n",
      "     499       15349.2   0.000152276       47.7932           1           1      564   \n",
      "    Iter      log prob        ||dx||      ||grad||       alpha      alpha0  # evals  Notes \n",
      "     499       20000.6    0.00032563       157.148      0.5461      0.5461      554   \n",
      "    Iter      log prob        ||dx||      ||grad||       alpha      alpha0  # evals  Notes \n",
      "     599       15349.4   0.000560027       123.123           1           1      682   \n",
      "    Iter      log prob        ||dx||      ||grad||       alpha      alpha0  # evals  Notes \n",
      "     533       20000.8   6.86434e-06       20.3847      0.3039      0.8429      591   \n",
      "Optimization terminated normally: \n",
      "  Convergence detected: relative gradient magnitude is below tolerance\n",
      "     699       15349.6   0.000223111       147.504      0.4578      0.4578      792   \n",
      "    Iter      log prob        ||dx||      ||grad||       alpha      alpha0  # evals  Notes \n",
      "     799       15349.8    0.00052333       144.547           1           1      906   \n",
      "    Iter      log prob        ||dx||      ||grad||       alpha      alpha0  # evals  Notes \n",
      "     889       15349.8   3.30447e-05       13.5755           1           1     1012   \n",
      "Optimization terminated normally: \n",
      "  Convergence detected: relative gradient magnitude is below tolerance\n"
     ]
    },
    {
     "name": "stderr",
     "output_type": "stream",
     "text": [
      "INFO:fbprophet:Disabling daily seasonality. Run prophet with daily_seasonality=True to override this.\n",
      "INFO:fbprophet:Applying in parallel with <concurrent.futures.process.ProcessPoolExecutor object at 0x7fdbe8c3ea00>\n"
     ]
    },
    {
     "name": "stdout",
     "output_type": "stream",
     "text": [
      "Initial log joint probability = -5.88213\n",
      "    Iter      log prob        ||dx||      ||grad||       alpha      alpha0  # evals  Notes \n",
      "      99       30256.1   0.000163314        155.61           1           1      115   \n",
      "    Iter      log prob        ||dx||      ||grad||       alpha      alpha0  # evals  Notes \n",
      "     199       30258.1    0.00476417       104.961           1           1      226   \n",
      "    Iter      log prob        ||dx||      ||grad||       alpha      alpha0  # evals  Notes \n",
      "     299       30258.9   0.000690487       153.184           1           1      341   \n",
      "    Iter      log prob        ||dx||      ||grad||       alpha      alpha0  # evals  Notes \n",
      "     399       30259.1   0.000114692       53.0068           1           1      448   \n",
      "    Iter      log prob        ||dx||      ||grad||       alpha      alpha0  # evals  Notes \n",
      "     499       30259.4   0.000701045       78.0844           1           1      562   \n",
      "    Iter      log prob        ||dx||      ||grad||       alpha      alpha0  # evals  Notes \n",
      "     599       30259.7   0.000104193       191.169      0.5884      0.5884      671   \n",
      "    Iter      log prob        ||dx||      ||grad||       alpha      alpha0  # evals  Notes \n",
      "     609       30259.7   6.27169e-05       20.8251           1           1      682   \n",
      "Optimization terminated normally: \n",
      "  Convergence detected: relative gradient magnitude is below tolerance\n",
      "Initial log joint probability = -4.73888\n",
      "    Iter      log prob        ||dx||      ||grad||       alpha      alpha0  # evals  Notes \n",
      "Initial log joint probability = -6.68041\n",
      "    Iter      log prob        ||dx||      ||grad||       alpha      alpha0  # evals  Notes \n",
      "      99       19998.6    0.00138877       585.208           1           1      115   \n",
      "    Iter      log prob        ||dx||      ||grad||       alpha      alpha0  # evals  Notes \n",
      "      99       15348.3   0.000931063       228.704           1           1      119   \n",
      "    Iter      log prob        ||dx||      ||grad||       alpha      alpha0  # evals  Notes \n",
      "     199       15348.7    0.00229318       96.8842           1           1      228   \n",
      "    Iter      log prob        ||dx||      ||grad||       alpha      alpha0  # evals  Notes \n",
      "     199       19999.7   0.000222959       265.558      0.2134           1      223   \n",
      "    Iter      log prob        ||dx||      ||grad||       alpha      alpha0  # evals  Notes \n",
      "     299       15348.9    0.00148642        387.78           1           1      338   \n",
      "    Iter      log prob        ||dx||      ||grad||       alpha      alpha0  # evals  Notes \n",
      "     299       20000.3    0.00671726       401.056           1           1      329   \n",
      "    Iter      log prob        ||dx||      ||grad||       alpha      alpha0  # evals  Notes \n",
      "     399         15349   0.000315838       49.0663           1           1      447   \n",
      "    Iter      log prob        ||dx||      ||grad||       alpha      alpha0  # evals  Notes \n",
      "     399       20000.5    0.00165669       99.9907           1           1      436   \n",
      "    Iter      log prob        ||dx||      ||grad||       alpha      alpha0  # evals  Notes \n",
      "     499       15349.2   8.79527e-05       40.6481      0.5005           1      557   \n",
      "    Iter      log prob        ||dx||      ||grad||       alpha      alpha0  # evals  Notes \n",
      "     499       20000.8   1.33289e-05       44.9638           1           1      543   \n",
      "    Iter      log prob        ||dx||      ||grad||       alpha      alpha0  # evals  Notes \n",
      "     599       15349.3   8.39838e-05        25.459      0.9106      0.9106      671   \n",
      "    Iter      log prob        ||dx||      ||grad||       alpha      alpha0  # evals  Notes \n",
      "     699       15349.4   0.000791147       89.0797           1           1      781   \n",
      "    Iter      log prob        ||dx||      ||grad||       alpha      alpha0  # evals  Notes \n",
      "     548       20000.9   4.53737e-06       33.9868    2.26e-07       0.001      650  LS failed, Hessian reset \n",
      "     549       20000.9   3.90674e-06       17.2395           1           1      651   \n",
      "Optimization terminated normally: \n",
      "  Convergence detected: relative gradient magnitude is below tolerance\n",
      "     780       15349.5   0.000162208       13.6604           1           1      868   \n",
      "Optimization terminated normally: \n",
      "  Convergence detected: relative gradient magnitude is below tolerance\n"
     ]
    }
   ],
   "source": [
    "param_grid = {  \n",
    "    'changepoint_prior_scale': [0.001, 0.01, 0.1, 0.5],\n",
    "    'seasonality_prior_scale': [0.01, 0.1, 1.0, 10.0],\n",
    "}\n",
    "\n",
    "# Generate all combinations of parameters\n",
    "all_params = [dict(zip(param_grid.keys(), v)) for v in itertools.product(*param_grid.values())]\n",
    "rmses = []  # Store the RMSEs for each params here\n",
    "\n",
    "# Use cross validation to evaluate all parameters\n",
    "for params in all_params:\n",
    "    m = Prophet(**params).fit(df_prophet)  # Fit model with given params\n",
    "    df_cv = cross_validation(m, cutoffs=cutoffs, horizon='30 days', parallel=\"processes\")\n",
    "    df_p = performance_metrics(df_cv, rolling_window=1)\n",
    "    rmses.append(df_p['rmse'].values[0])\n",
    "\n",
    "# Finding the best parameters\n",
    "tuning_results = pd.DataFrame(all_params)\n",
    "tuning_results['rmse'] = rmses"
   ]
  },
  {
   "cell_type": "code",
   "execution_count": 51,
   "metadata": {},
   "outputs": [
    {
     "name": "stdout",
     "output_type": "stream",
     "text": [
      "    changepoint_prior_scale  seasonality_prior_scale        rmse\n",
      "0                     0.001                     0.01  613.014849\n",
      "1                     0.001                     0.10  613.596961\n",
      "2                     0.001                     1.00  612.699739\n",
      "3                     0.001                    10.00  612.673506\n",
      "4                     0.010                     0.01  612.679377\n",
      "5                     0.010                     0.10  612.759312\n",
      "6                     0.010                     1.00  612.713745\n",
      "7                     0.010                    10.00  612.714056\n",
      "8                     0.100                     0.01  613.798716\n",
      "9                     0.100                     0.10  613.871721\n",
      "10                    0.100                     1.00  613.798850\n",
      "11                    0.100                    10.00  613.799337\n",
      "12                    0.500                     0.01  613.742848\n",
      "13                    0.500                     0.10  613.575000\n",
      "14                    0.500                     1.00  614.024465\n",
      "15                    0.500                    10.00  613.851111\n"
     ]
    }
   ],
   "source": [
    "print(tuning_results)"
   ]
  },
  {
   "cell_type": "markdown",
   "metadata": {},
   "source": [
    "Here are the best parameter values to use for this model:"
   ]
  },
  {
   "cell_type": "code",
   "execution_count": 52,
   "metadata": {},
   "outputs": [
    {
     "name": "stdout",
     "output_type": "stream",
     "text": [
      "{'changepoint_prior_scale': 0.001, 'seasonality_prior_scale': 10.0}\n"
     ]
    }
   ],
   "source": [
    "best_params = all_params[np.argmin(rmses)]\n",
    "print(best_params)"
   ]
  }
 ],
 "metadata": {
  "interpreter": {
   "hash": "40d3a090f54c6569ab1632332b64b2c03c39dcf918b08424e98f38b5ae0af88f"
  },
  "kernelspec": {
   "display_name": "Python 3.8.8 ('base')",
   "language": "python",
   "name": "python3"
  },
  "language_info": {
   "codemirror_mode": {
    "name": "ipython",
    "version": 3
   },
   "file_extension": ".py",
   "mimetype": "text/x-python",
   "name": "python",
   "nbconvert_exporter": "python",
   "pygments_lexer": "ipython3",
   "version": "3.8.8"
  },
  "orig_nbformat": 4
 },
 "nbformat": 4,
 "nbformat_minor": 2
}
